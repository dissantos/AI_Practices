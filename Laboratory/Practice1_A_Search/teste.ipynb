{
 "metadata": {
  "language_info": {
   "codemirror_mode": {
    "name": "ipython",
    "version": 3
   },
   "file_extension": ".py",
   "mimetype": "text/x-python",
   "name": "python",
   "nbconvert_exporter": "python",
   "pygments_lexer": "ipython3",
   "version": "3.9.5"
  },
  "orig_nbformat": 2,
  "kernelspec": {
   "name": "python395jvsc74a57bd0af698c02722c81864863429d928a3bd8a8dcc030c4156359d3ef8b980fb01319",
   "display_name": "Python 3.9.5 64-bit"
  },
  "metadata": {
   "interpreter": {
    "hash": "af698c02722c81864863429d928a3bd8a8dcc030c4156359d3ef8b980fb01319"
   }
  }
 },
 "nbformat": 4,
 "nbformat_minor": 2,
 "cells": [
  {
   "cell_type": "code",
   "execution_count": 1,
   "metadata": {},
   "outputs": [],
   "source": [
    "import networkx as nx"
   ]
  },
  {
   "cell_type": "code",
   "execution_count": 11,
   "metadata": {},
   "outputs": [],
   "source": [
    "#inicialmente cria a o grafo com as cidades e adicionas a arestas de acordo com \n",
    "grafo_cidades = nx.Graph()\n",
    "grafo_cidades.add_edge(\"Arad\",\"Zerind\", weight=75, visitado= False)\n",
    "grafo_cidades.add_edge(\"Arad\",\"Sibiu\", weight=140, visitado= False)\n",
    "grafo_cidades.add_edge(\"Arad\",\"Timisoara\", weight=118, visitado= False)\n",
    "grafo_cidades.add_edge(\"Timisoara\",\"Lugoj\", weight=111, visitado= False)\n",
    "grafo_cidades.add_edge(\"Sibiu\",\"Oradea\", weight=151, visitado= False)\n",
    "grafo_cidades.add_edge(\"Oradea\",\"Zerind\", weight=71, visitado= False)\n",
    "grafo_cidades.add_edge(\"Sibiu\",\"Fagaras\", weight=99, visitado= False)\n",
    "grafo_cidades.add_edge(\"Sibiu\",\"Rimnicu Vilcea\", weight=80, visitado= False)\n",
    "grafo_cidades.add_edge(\"Lugoj\",\"Mehadia\", weight=70, visitado= False)\n",
    "grafo_cidades.add_edge(\"Rimnicu Vilcea\",\"Craiova\", weight=146, visitado= False)\n",
    "grafo_cidades.add_edge(\"Rimnicu Vilcea\",\"Pitesti\", weight=97, visitado= False)\n",
    "grafo_cidades.add_edge(\"Fagaras\",\"Bucareste\", weight=211, visitado= False)\n",
    "grafo_cidades.add_edge(\"Pitesti\",\"Bucareste\", weight=101, visitado= False)\n",
    "grafo_cidades.add_edge(\"Pitesti\",\"Craiova\", weight=138, visitado= False)\n",
    "grafo_cidades.add_edge(\"Mehadia\",\"Drobeta\", weight=75, visitado= False)\n",
    "grafo_cidades.add_edge(\"Drobeta\",\"Craiova\", weight=120, visitado= False)\n",
    "grafo_cidades.add_edge(\"Bucareste\",\"Giurgiu\", weight=90, visitado= False)\n",
    "grafo_cidades.add_edge(\"Bucareste\",\"Urziceni\", weight=85, visitado= False)\n",
    "grafo_cidades.add_edge(\"Urziceni\",\"Hirsova\", weight=98, visitado= False)\n",
    "grafo_cidades.add_edge(\"Urziceni\",\"Vaslui\", weight=142, visitado= False)\n",
    "grafo_cidades.add_edge(\"Hirsova\",\"Eforie\", weight=86, visitado= False)\n",
    "grafo_cidades.add_edge(\"Vaslui\",\"Iasi\", weight=92, visitado= False)\n",
    "grafo_cidades.add_edge(\"Iasi\",\"Neamt\", weight=87)\n"
   ]
  },
  {
   "cell_type": "code",
   "execution_count": 3,
   "metadata": {},
   "outputs": [
    {
     "output_type": "execute_result",
     "data": {
      "text/plain": [
       "                 Arad  Zerind  Sibiu  Timisoara  Lugoj  Oradea  Fagaras  \\\n",
       "Arad              0.0    75.0  140.0      118.0    0.0     0.0      0.0   \n",
       "Zerind           75.0     0.0    0.0        0.0    0.0    71.0      0.0   \n",
       "Sibiu           140.0     0.0    0.0        0.0    0.0   151.0     99.0   \n",
       "Timisoara       118.0     0.0    0.0        0.0  111.0     0.0      0.0   \n",
       "Lugoj             0.0     0.0    0.0      111.0    0.0     0.0      0.0   \n",
       "Oradea            0.0    71.0  151.0        0.0    0.0     0.0      0.0   \n",
       "Fagaras           0.0     0.0   99.0        0.0    0.0     0.0      0.0   \n",
       "Rimnicu Vilcea    0.0     0.0   80.0        0.0    0.0     0.0      0.0   \n",
       "Mehadia           0.0     0.0    0.0        0.0   70.0     0.0      0.0   \n",
       "Craiova           0.0     0.0    0.0        0.0    0.0     0.0      0.0   \n",
       "Pitesti           0.0     0.0    0.0        0.0    0.0     0.0      0.0   \n",
       "Bucareste         0.0     0.0    0.0        0.0    0.0     0.0    211.0   \n",
       "Drobeta           0.0     0.0    0.0        0.0    0.0     0.0      0.0   \n",
       "Giurgiu           0.0     0.0    0.0        0.0    0.0     0.0      0.0   \n",
       "Urziceni          0.0     0.0    0.0        0.0    0.0     0.0      0.0   \n",
       "Hirsova           0.0     0.0    0.0        0.0    0.0     0.0      0.0   \n",
       "Vaslui            0.0     0.0    0.0        0.0    0.0     0.0      0.0   \n",
       "Eforie            0.0     0.0    0.0        0.0    0.0     0.0      0.0   \n",
       "Iasi              0.0     0.0    0.0        0.0    0.0     0.0      0.0   \n",
       "Neamt             0.0     0.0    0.0        0.0    0.0     0.0      0.0   \n",
       "\n",
       "                Rimnicu Vilcea  Mehadia  Craiova  Pitesti  Bucareste  Drobeta  \\\n",
       "Arad                       0.0      0.0      0.0      0.0        0.0      0.0   \n",
       "Zerind                     0.0      0.0      0.0      0.0        0.0      0.0   \n",
       "Sibiu                     80.0      0.0      0.0      0.0        0.0      0.0   \n",
       "Timisoara                  0.0      0.0      0.0      0.0        0.0      0.0   \n",
       "Lugoj                      0.0     70.0      0.0      0.0        0.0      0.0   \n",
       "Oradea                     0.0      0.0      0.0      0.0        0.0      0.0   \n",
       "Fagaras                    0.0      0.0      0.0      0.0      211.0      0.0   \n",
       "Rimnicu Vilcea             0.0      0.0    146.0     97.0        0.0      0.0   \n",
       "Mehadia                    0.0      0.0      0.0      0.0        0.0     75.0   \n",
       "Craiova                  146.0      0.0      0.0    138.0        0.0    120.0   \n",
       "Pitesti                   97.0      0.0    138.0      0.0      101.0      0.0   \n",
       "Bucareste                  0.0      0.0      0.0    101.0        0.0      0.0   \n",
       "Drobeta                    0.0     75.0    120.0      0.0        0.0      0.0   \n",
       "Giurgiu                    0.0      0.0      0.0      0.0       90.0      0.0   \n",
       "Urziceni                   0.0      0.0      0.0      0.0       85.0      0.0   \n",
       "Hirsova                    0.0      0.0      0.0      0.0        0.0      0.0   \n",
       "Vaslui                     0.0      0.0      0.0      0.0        0.0      0.0   \n",
       "Eforie                     0.0      0.0      0.0      0.0        0.0      0.0   \n",
       "Iasi                       0.0      0.0      0.0      0.0        0.0      0.0   \n",
       "Neamt                      0.0      0.0      0.0      0.0        0.0      0.0   \n",
       "\n",
       "                Giurgiu  Urziceni  Hirsova  Vaslui  Eforie  Iasi  Neamt  \n",
       "Arad                0.0       0.0      0.0     0.0     0.0   0.0    0.0  \n",
       "Zerind              0.0       0.0      0.0     0.0     0.0   0.0    0.0  \n",
       "Sibiu               0.0       0.0      0.0     0.0     0.0   0.0    0.0  \n",
       "Timisoara           0.0       0.0      0.0     0.0     0.0   0.0    0.0  \n",
       "Lugoj               0.0       0.0      0.0     0.0     0.0   0.0    0.0  \n",
       "Oradea              0.0       0.0      0.0     0.0     0.0   0.0    0.0  \n",
       "Fagaras             0.0       0.0      0.0     0.0     0.0   0.0    0.0  \n",
       "Rimnicu Vilcea      0.0       0.0      0.0     0.0     0.0   0.0    0.0  \n",
       "Mehadia             0.0       0.0      0.0     0.0     0.0   0.0    0.0  \n",
       "Craiova             0.0       0.0      0.0     0.0     0.0   0.0    0.0  \n",
       "Pitesti             0.0       0.0      0.0     0.0     0.0   0.0    0.0  \n",
       "Bucareste          90.0      85.0      0.0     0.0     0.0   0.0    0.0  \n",
       "Drobeta             0.0       0.0      0.0     0.0     0.0   0.0    0.0  \n",
       "Giurgiu             0.0       0.0      0.0     0.0     0.0   0.0    0.0  \n",
       "Urziceni            0.0       0.0     98.0   142.0     0.0   0.0    0.0  \n",
       "Hirsova             0.0      98.0      0.0     0.0    86.0   0.0    0.0  \n",
       "Vaslui              0.0     142.0      0.0     0.0     0.0  92.0    0.0  \n",
       "Eforie              0.0       0.0     86.0     0.0     0.0   0.0    0.0  \n",
       "Iasi                0.0       0.0      0.0    92.0     0.0   0.0   87.0  \n",
       "Neamt               0.0       0.0      0.0     0.0     0.0  87.0    0.0  "
      ],
      "text/html": "<div>\n<style scoped>\n    .dataframe tbody tr th:only-of-type {\n        vertical-align: middle;\n    }\n\n    .dataframe tbody tr th {\n        vertical-align: top;\n    }\n\n    .dataframe thead th {\n        text-align: right;\n    }\n</style>\n<table border=\"1\" class=\"dataframe\">\n  <thead>\n    <tr style=\"text-align: right;\">\n      <th></th>\n      <th>Arad</th>\n      <th>Zerind</th>\n      <th>Sibiu</th>\n      <th>Timisoara</th>\n      <th>Lugoj</th>\n      <th>Oradea</th>\n      <th>Fagaras</th>\n      <th>Rimnicu Vilcea</th>\n      <th>Mehadia</th>\n      <th>Craiova</th>\n      <th>Pitesti</th>\n      <th>Bucareste</th>\n      <th>Drobeta</th>\n      <th>Giurgiu</th>\n      <th>Urziceni</th>\n      <th>Hirsova</th>\n      <th>Vaslui</th>\n      <th>Eforie</th>\n      <th>Iasi</th>\n      <th>Neamt</th>\n    </tr>\n  </thead>\n  <tbody>\n    <tr>\n      <th>Arad</th>\n      <td>0.0</td>\n      <td>75.0</td>\n      <td>140.0</td>\n      <td>118.0</td>\n      <td>0.0</td>\n      <td>0.0</td>\n      <td>0.0</td>\n      <td>0.0</td>\n      <td>0.0</td>\n      <td>0.0</td>\n      <td>0.0</td>\n      <td>0.0</td>\n      <td>0.0</td>\n      <td>0.0</td>\n      <td>0.0</td>\n      <td>0.0</td>\n      <td>0.0</td>\n      <td>0.0</td>\n      <td>0.0</td>\n      <td>0.0</td>\n    </tr>\n    <tr>\n      <th>Zerind</th>\n      <td>75.0</td>\n      <td>0.0</td>\n      <td>0.0</td>\n      <td>0.0</td>\n      <td>0.0</td>\n      <td>71.0</td>\n      <td>0.0</td>\n      <td>0.0</td>\n      <td>0.0</td>\n      <td>0.0</td>\n      <td>0.0</td>\n      <td>0.0</td>\n      <td>0.0</td>\n      <td>0.0</td>\n      <td>0.0</td>\n      <td>0.0</td>\n      <td>0.0</td>\n      <td>0.0</td>\n      <td>0.0</td>\n      <td>0.0</td>\n    </tr>\n    <tr>\n      <th>Sibiu</th>\n      <td>140.0</td>\n      <td>0.0</td>\n      <td>0.0</td>\n      <td>0.0</td>\n      <td>0.0</td>\n      <td>151.0</td>\n      <td>99.0</td>\n      <td>80.0</td>\n      <td>0.0</td>\n      <td>0.0</td>\n      <td>0.0</td>\n      <td>0.0</td>\n      <td>0.0</td>\n      <td>0.0</td>\n      <td>0.0</td>\n      <td>0.0</td>\n      <td>0.0</td>\n      <td>0.0</td>\n      <td>0.0</td>\n      <td>0.0</td>\n    </tr>\n    <tr>\n      <th>Timisoara</th>\n      <td>118.0</td>\n      <td>0.0</td>\n      <td>0.0</td>\n      <td>0.0</td>\n      <td>111.0</td>\n      <td>0.0</td>\n      <td>0.0</td>\n      <td>0.0</td>\n      <td>0.0</td>\n      <td>0.0</td>\n      <td>0.0</td>\n      <td>0.0</td>\n      <td>0.0</td>\n      <td>0.0</td>\n      <td>0.0</td>\n      <td>0.0</td>\n      <td>0.0</td>\n      <td>0.0</td>\n      <td>0.0</td>\n      <td>0.0</td>\n    </tr>\n    <tr>\n      <th>Lugoj</th>\n      <td>0.0</td>\n      <td>0.0</td>\n      <td>0.0</td>\n      <td>111.0</td>\n      <td>0.0</td>\n      <td>0.0</td>\n      <td>0.0</td>\n      <td>0.0</td>\n      <td>70.0</td>\n      <td>0.0</td>\n      <td>0.0</td>\n      <td>0.0</td>\n      <td>0.0</td>\n      <td>0.0</td>\n      <td>0.0</td>\n      <td>0.0</td>\n      <td>0.0</td>\n      <td>0.0</td>\n      <td>0.0</td>\n      <td>0.0</td>\n    </tr>\n    <tr>\n      <th>Oradea</th>\n      <td>0.0</td>\n      <td>71.0</td>\n      <td>151.0</td>\n      <td>0.0</td>\n      <td>0.0</td>\n      <td>0.0</td>\n      <td>0.0</td>\n      <td>0.0</td>\n      <td>0.0</td>\n      <td>0.0</td>\n      <td>0.0</td>\n      <td>0.0</td>\n      <td>0.0</td>\n      <td>0.0</td>\n      <td>0.0</td>\n      <td>0.0</td>\n      <td>0.0</td>\n      <td>0.0</td>\n      <td>0.0</td>\n      <td>0.0</td>\n    </tr>\n    <tr>\n      <th>Fagaras</th>\n      <td>0.0</td>\n      <td>0.0</td>\n      <td>99.0</td>\n      <td>0.0</td>\n      <td>0.0</td>\n      <td>0.0</td>\n      <td>0.0</td>\n      <td>0.0</td>\n      <td>0.0</td>\n      <td>0.0</td>\n      <td>0.0</td>\n      <td>211.0</td>\n      <td>0.0</td>\n      <td>0.0</td>\n      <td>0.0</td>\n      <td>0.0</td>\n      <td>0.0</td>\n      <td>0.0</td>\n      <td>0.0</td>\n      <td>0.0</td>\n    </tr>\n    <tr>\n      <th>Rimnicu Vilcea</th>\n      <td>0.0</td>\n      <td>0.0</td>\n      <td>80.0</td>\n      <td>0.0</td>\n      <td>0.0</td>\n      <td>0.0</td>\n      <td>0.0</td>\n      <td>0.0</td>\n      <td>0.0</td>\n      <td>146.0</td>\n      <td>97.0</td>\n      <td>0.0</td>\n      <td>0.0</td>\n      <td>0.0</td>\n      <td>0.0</td>\n      <td>0.0</td>\n      <td>0.0</td>\n      <td>0.0</td>\n      <td>0.0</td>\n      <td>0.0</td>\n    </tr>\n    <tr>\n      <th>Mehadia</th>\n      <td>0.0</td>\n      <td>0.0</td>\n      <td>0.0</td>\n      <td>0.0</td>\n      <td>70.0</td>\n      <td>0.0</td>\n      <td>0.0</td>\n      <td>0.0</td>\n      <td>0.0</td>\n      <td>0.0</td>\n      <td>0.0</td>\n      <td>0.0</td>\n      <td>75.0</td>\n      <td>0.0</td>\n      <td>0.0</td>\n      <td>0.0</td>\n      <td>0.0</td>\n      <td>0.0</td>\n      <td>0.0</td>\n      <td>0.0</td>\n    </tr>\n    <tr>\n      <th>Craiova</th>\n      <td>0.0</td>\n      <td>0.0</td>\n      <td>0.0</td>\n      <td>0.0</td>\n      <td>0.0</td>\n      <td>0.0</td>\n      <td>0.0</td>\n      <td>146.0</td>\n      <td>0.0</td>\n      <td>0.0</td>\n      <td>138.0</td>\n      <td>0.0</td>\n      <td>120.0</td>\n      <td>0.0</td>\n      <td>0.0</td>\n      <td>0.0</td>\n      <td>0.0</td>\n      <td>0.0</td>\n      <td>0.0</td>\n      <td>0.0</td>\n    </tr>\n    <tr>\n      <th>Pitesti</th>\n      <td>0.0</td>\n      <td>0.0</td>\n      <td>0.0</td>\n      <td>0.0</td>\n      <td>0.0</td>\n      <td>0.0</td>\n      <td>0.0</td>\n      <td>97.0</td>\n      <td>0.0</td>\n      <td>138.0</td>\n      <td>0.0</td>\n      <td>101.0</td>\n      <td>0.0</td>\n      <td>0.0</td>\n      <td>0.0</td>\n      <td>0.0</td>\n      <td>0.0</td>\n      <td>0.0</td>\n      <td>0.0</td>\n      <td>0.0</td>\n    </tr>\n    <tr>\n      <th>Bucareste</th>\n      <td>0.0</td>\n      <td>0.0</td>\n      <td>0.0</td>\n      <td>0.0</td>\n      <td>0.0</td>\n      <td>0.0</td>\n      <td>211.0</td>\n      <td>0.0</td>\n      <td>0.0</td>\n      <td>0.0</td>\n      <td>101.0</td>\n      <td>0.0</td>\n      <td>0.0</td>\n      <td>90.0</td>\n      <td>85.0</td>\n      <td>0.0</td>\n      <td>0.0</td>\n      <td>0.0</td>\n      <td>0.0</td>\n      <td>0.0</td>\n    </tr>\n    <tr>\n      <th>Drobeta</th>\n      <td>0.0</td>\n      <td>0.0</td>\n      <td>0.0</td>\n      <td>0.0</td>\n      <td>0.0</td>\n      <td>0.0</td>\n      <td>0.0</td>\n      <td>0.0</td>\n      <td>75.0</td>\n      <td>120.0</td>\n      <td>0.0</td>\n      <td>0.0</td>\n      <td>0.0</td>\n      <td>0.0</td>\n      <td>0.0</td>\n      <td>0.0</td>\n      <td>0.0</td>\n      <td>0.0</td>\n      <td>0.0</td>\n      <td>0.0</td>\n    </tr>\n    <tr>\n      <th>Giurgiu</th>\n      <td>0.0</td>\n      <td>0.0</td>\n      <td>0.0</td>\n      <td>0.0</td>\n      <td>0.0</td>\n      <td>0.0</td>\n      <td>0.0</td>\n      <td>0.0</td>\n      <td>0.0</td>\n      <td>0.0</td>\n      <td>0.0</td>\n      <td>90.0</td>\n      <td>0.0</td>\n      <td>0.0</td>\n      <td>0.0</td>\n      <td>0.0</td>\n      <td>0.0</td>\n      <td>0.0</td>\n      <td>0.0</td>\n      <td>0.0</td>\n    </tr>\n    <tr>\n      <th>Urziceni</th>\n      <td>0.0</td>\n      <td>0.0</td>\n      <td>0.0</td>\n      <td>0.0</td>\n      <td>0.0</td>\n      <td>0.0</td>\n      <td>0.0</td>\n      <td>0.0</td>\n      <td>0.0</td>\n      <td>0.0</td>\n      <td>0.0</td>\n      <td>85.0</td>\n      <td>0.0</td>\n      <td>0.0</td>\n      <td>0.0</td>\n      <td>98.0</td>\n      <td>142.0</td>\n      <td>0.0</td>\n      <td>0.0</td>\n      <td>0.0</td>\n    </tr>\n    <tr>\n      <th>Hirsova</th>\n      <td>0.0</td>\n      <td>0.0</td>\n      <td>0.0</td>\n      <td>0.0</td>\n      <td>0.0</td>\n      <td>0.0</td>\n      <td>0.0</td>\n      <td>0.0</td>\n      <td>0.0</td>\n      <td>0.0</td>\n      <td>0.0</td>\n      <td>0.0</td>\n      <td>0.0</td>\n      <td>0.0</td>\n      <td>98.0</td>\n      <td>0.0</td>\n      <td>0.0</td>\n      <td>86.0</td>\n      <td>0.0</td>\n      <td>0.0</td>\n    </tr>\n    <tr>\n      <th>Vaslui</th>\n      <td>0.0</td>\n      <td>0.0</td>\n      <td>0.0</td>\n      <td>0.0</td>\n      <td>0.0</td>\n      <td>0.0</td>\n      <td>0.0</td>\n      <td>0.0</td>\n      <td>0.0</td>\n      <td>0.0</td>\n      <td>0.0</td>\n      <td>0.0</td>\n      <td>0.0</td>\n      <td>0.0</td>\n      <td>142.0</td>\n      <td>0.0</td>\n      <td>0.0</td>\n      <td>0.0</td>\n      <td>92.0</td>\n      <td>0.0</td>\n    </tr>\n    <tr>\n      <th>Eforie</th>\n      <td>0.0</td>\n      <td>0.0</td>\n      <td>0.0</td>\n      <td>0.0</td>\n      <td>0.0</td>\n      <td>0.0</td>\n      <td>0.0</td>\n      <td>0.0</td>\n      <td>0.0</td>\n      <td>0.0</td>\n      <td>0.0</td>\n      <td>0.0</td>\n      <td>0.0</td>\n      <td>0.0</td>\n      <td>0.0</td>\n      <td>86.0</td>\n      <td>0.0</td>\n      <td>0.0</td>\n      <td>0.0</td>\n      <td>0.0</td>\n    </tr>\n    <tr>\n      <th>Iasi</th>\n      <td>0.0</td>\n      <td>0.0</td>\n      <td>0.0</td>\n      <td>0.0</td>\n      <td>0.0</td>\n      <td>0.0</td>\n      <td>0.0</td>\n      <td>0.0</td>\n      <td>0.0</td>\n      <td>0.0</td>\n      <td>0.0</td>\n      <td>0.0</td>\n      <td>0.0</td>\n      <td>0.0</td>\n      <td>0.0</td>\n      <td>0.0</td>\n      <td>92.0</td>\n      <td>0.0</td>\n      <td>0.0</td>\n      <td>87.0</td>\n    </tr>\n    <tr>\n      <th>Neamt</th>\n      <td>0.0</td>\n      <td>0.0</td>\n      <td>0.0</td>\n      <td>0.0</td>\n      <td>0.0</td>\n      <td>0.0</td>\n      <td>0.0</td>\n      <td>0.0</td>\n      <td>0.0</td>\n      <td>0.0</td>\n      <td>0.0</td>\n      <td>0.0</td>\n      <td>0.0</td>\n      <td>0.0</td>\n      <td>0.0</td>\n      <td>0.0</td>\n      <td>0.0</td>\n      <td>0.0</td>\n      <td>87.0</td>\n      <td>0.0</td>\n    </tr>\n  </tbody>\n</table>\n</div>"
     },
     "metadata": {},
     "execution_count": 3
    }
   ],
   "source": [
    "nx.to_pandas_adjacency(grafo_cidades)"
   ]
  },
  {
   "cell_type": "code",
   "execution_count": 4,
   "metadata": {},
   "outputs": [
    {
     "output_type": "execute_result",
     "data": {
      "text/plain": [
       "{'Arad': 366,\n",
       " 'Bucareste': 0,\n",
       " 'Craiova': 160,\n",
       " 'Drobeta': 242,\n",
       " 'Eforie': 161,\n",
       " 'Fagaras': 176,\n",
       " 'Giurgiu': 77,\n",
       " 'Hirsova': 151,\n",
       " 'Iasi': 226,\n",
       " 'Lugoj': 244,\n",
       " 'Mehadia': 241,\n",
       " 'Neamt': 234,\n",
       " 'Oradea': 380,\n",
       " 'Pitesti': 100,\n",
       " 'Rimnicu Vilcea': 193,\n",
       " 'Sibiu': 253,\n",
       " 'Timisoara': 329,\n",
       " 'Urziceni': 80,\n",
       " 'Vaslui': 199,\n",
       " 'Zerind': 374}"
      ]
     },
     "metadata": {},
     "execution_count": 4
    }
   ],
   "source": [
    "#agora fazemos um dicionário com a distância em linha reta até Bucarest\n",
    "dist_bucareste = dict()\n",
    "dist_bucareste[\"Arad\"] = 366\n",
    "dist_bucareste[\"Bucareste\"] = 0\n",
    "dist_bucareste[\"Craiova\"] = 160\n",
    "dist_bucareste[\"Drobeta\"] = 242\n",
    "dist_bucareste[\"Eforie\"] = 161\n",
    "dist_bucareste[\"Fagaras\"] = 176\n",
    "dist_bucareste[\"Giurgiu\"] = 77\n",
    "dist_bucareste[\"Hirsova\"] = 151\n",
    "dist_bucareste[\"Iasi\"] = 226\n",
    "dist_bucareste[\"Lugoj\"] = 244\n",
    "dist_bucareste[\"Mehadia\"] = 241\n",
    "dist_bucareste[\"Neamt\"] = 234\n",
    "dist_bucareste[\"Oradea\"] = 380\n",
    "dist_bucareste[\"Pitesti\"] = 100\n",
    "dist_bucareste[\"Rimnicu Vilcea\"] = 193\n",
    "dist_bucareste[\"Sibiu\"] = 253\n",
    "dist_bucareste[\"Timisoara\"] = 329\n",
    "dist_bucareste[\"Urziceni\"] = 80\n",
    "dist_bucareste[\"Vaslui\"] = 199\n",
    "dist_bucareste[\"Zerind\"] = 374\n",
    "\n",
    "dist_bucareste\n"
   ]
  },
  {
   "cell_type": "code",
   "execution_count": 12,
   "metadata": {},
   "outputs": [
    {
     "output_type": "stream",
     "name": "stdout",
     "text": [
      "Zerind {'weight': 75, 'visitado': False}\nSibiu {'weight': 140, 'visitado': False}\nTimisoara {'weight': 118, 'visitado': False}\n"
     ]
    }
   ],
   "source": [
    "for n in grafo_cidades.neighbors(\"Arad\"):\n",
    "    print(n,grafo_cidades.get_edge_data(\"Arad\",n))"
   ]
  },
  {
   "cell_type": "code",
   "execution_count": 6,
   "metadata": {},
   "outputs": [
    {
     "output_type": "execute_result",
     "data": {
      "text/plain": [
       "[('Bucareste', 0),\n",
       " ('Giurgiu', 77),\n",
       " ('Urziceni', 80),\n",
       " ('Pitesti', 100),\n",
       " ('Hirsova', 151),\n",
       " ('Craiova', 160),\n",
       " ('Eforie', 161),\n",
       " ('Fagaras', 176),\n",
       " ('Rimnicu Vilcea', 193),\n",
       " ('Vaslui', 199),\n",
       " ('Iasi', 226),\n",
       " ('Neamt', 234),\n",
       " ('Mehadia', 241),\n",
       " ('Drobeta', 242),\n",
       " ('Lugoj', 244),\n",
       " ('Sibiu', 253),\n",
       " ('Timisoara', 329),\n",
       " ('Arad', 366),\n",
       " ('Zerind', 374),\n",
       " ('Oradea', 380)]"
      ]
     },
     "metadata": {},
     "execution_count": 6
    }
   ],
   "source": [
    "sorted(dist_bucareste.items(),key=lambda x: x[1])\n"
   ]
  },
  {
   "cell_type": "code",
   "execution_count": 38,
   "metadata": {},
   "outputs": [
    {
     "output_type": "stream",
     "name": "stdout",
     "text": [
      "No atual:  Arad\nf:  366\ng:  0\nh:  366\n======================================\nNo atual:  Sibiu\nf:  393\ng:  140\nh:  253\n======================================\nNo atual:  Rimnicu Vilcea\nf:  413\ng:  220\nh:  193\n======================================\nNo atual:  Fagaras\nf:  415\ng:  239\nh:  176\n======================================\nNo atual:  Pitesti\nf:  417\ng:  317\nh:  100\n======================================\nNo atual:  Bucareste\nf:  418\ng:  418\nh:  0\n======================================\nCaminho escolhido:  ['Arad', 'Sibiu', 'Rimnicu Vilcea', 'Pitesti', 'Bucareste']\n"
     ]
    }
   ],
   "source": [
    "no_atual = \"Arad\"\n",
    "no_final = \"Bucareste\"\n",
    "list_cidades = [no_atual]\n",
    "distancia = 0\n",
    "lista_caminhos = []\n",
    "caminho_escolhido = ([no_atual],0)\n",
    "\n",
    "while True:\n",
    "    f = caminho_escolhido[1] + dist_bucareste[no_atual]\n",
    "    print(\"No atual: \",no_atual)\n",
    "    print(\"f: \",f)\n",
    "    print(\"g: \",caminho_escolhido[1])\n",
    "    print(\"h: \",dist_bucareste[no_atual])\n",
    "    print(\"======================================\")\n",
    "\n",
    "    if (no_atual == no_final):\n",
    "        break\n",
    "    \n",
    "    for n in grafo_cidades.neighbors(no_atual):\n",
    "        caminho = caminho_escolhido[0].copy()\n",
    "        caminho.append(n)\n",
    "        lista_caminhos.append((caminho, caminho_escolhido[1] + grafo_cidades.get_edge_data(no_atual,n)['weight']))\n",
    "\n",
    "    lista_caminhos = sorted(lista_caminhos ,key=lambda x: x[1] + dist_bucareste[x[0][-1]])\n",
    "    caminho_escolhido = lista_caminhos[0]\n",
    "    del(lista_caminhos[0])\n",
    "    list_cidades.append(caminho_escolhido[0][-1])\n",
    "    no_atual = list_cidades[-1] \n",
    "\n",
    "print(\"Caminho escolhido: \", caminho_escolhido[0])   \n",
    "\n",
    "\n"
   ]
  },
  {
   "cell_type": "code",
   "execution_count": 34,
   "metadata": {},
   "outputs": [
    {
     "output_type": "stream",
     "name": "stdout",
     "text": [
      "(['Arad', 'Sibiu', 'Rimnicu Vilcea', 'Pitesti', 'Bucareste'], 418)\n"
     ]
    }
   ],
   "source": [
    "print(caminho_escolhido)"
   ]
  },
  {
   "cell_type": "code",
   "execution_count": null,
   "metadata": {},
   "outputs": [],
   "source": []
  }
 ]
}