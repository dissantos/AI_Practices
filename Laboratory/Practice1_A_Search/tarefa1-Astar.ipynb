{
 "metadata": {
  "language_info": {
   "codemirror_mode": {
    "name": "ipython",
    "version": 3
   },
   "file_extension": ".py",
   "mimetype": "text/x-python",
   "name": "python",
   "nbconvert_exporter": "python",
   "pygments_lexer": "ipython3",
   "version": "3.9.5"
  },
  "orig_nbformat": 2,
  "kernelspec": {
   "name": "python395jvsc74a57bd0af698c02722c81864863429d928a3bd8a8dcc030c4156359d3ef8b980fb01319",
   "display_name": "Python 3.9.5 64-bit"
  },
  "metadata": {
   "interpreter": {
    "hash": "af698c02722c81864863429d928a3bd8a8dcc030c4156359d3ef8b980fb01319"
   }
  }
 },
 "nbformat": 4,
 "nbformat_minor": 2,
 "cells": [
  {
   "source": [
    "# TAREFA 1 - A*\n",
    "\n",
    "<ul>\n",
    "<li>Diego Santos Gonçalves - 20183012537</li>\n",
    "<li>Mariana Bulgarelli Alves dos Santos - 20183000330</li>\n",
    "</ul>\n",
    "\n",
    "Para executar este notebook, é necessária a instalação das seguintes bibliotecas:\n",
    "<ul>\n",
    "<li>networkx </li>\n",
    "<li>pandas</li>\n",
    "</ul>\n",
    "\n",
    "<p>Juntamente com este notebook, segue arquivo .py equivalente</p>"
   ],
   "cell_type": "markdown",
   "metadata": {}
  },
  {
   "cell_type": "code",
   "execution_count": 23,
   "metadata": {},
   "outputs": [
    {
     "output_type": "stream",
     "name": "stdout",
     "text": [
      "Requirement already satisfied: networkx in c:\\users\\maria\\appdata\\local\\programs\\python\\python39\\lib\\site-packages (2.5.1)\n",
      "Requirement already satisfied: decorator<5,>=4.3 in c:\\users\\maria\\appdata\\local\\programs\\python\\python39\\lib\\site-packages (from networkx) (4.4.2)\n"
     ]
    }
   ],
   "source": [
    "!pip install networkx"
   ]
  },
  {
   "cell_type": "code",
   "execution_count": 22,
   "metadata": {},
   "outputs": [
    {
     "output_type": "stream",
     "name": "stdout",
     "text": [
      "Requirement already satisfied: pandas in c:\\users\\maria\\appdata\\local\\programs\\python\\python39\\lib\\site-packages (1.2.4)\nRequirement already satisfied: pytz>=2017.3 in c:\\users\\maria\\appdata\\local\\programs\\python\\python39\\lib\\site-packages (from pandas) (2021.1)\nRequirement already satisfied: numpy>=1.16.5 in c:\\users\\maria\\appdata\\local\\programs\\python\\python39\\lib\\site-packages (from pandas) (1.20.3)\nRequirement already satisfied: python-dateutil>=2.7.3 in c:\\users\\maria\\appdata\\local\\programs\\python\\python39\\lib\\site-packages (from pandas) (2.8.1)\nRequirement already satisfied: six>=1.5 in c:\\users\\maria\\appdata\\local\\programs\\python\\python39\\lib\\site-packages (from python-dateutil>=2.7.3->pandas) (1.16.0)\n"
     ]
    }
   ],
   "source": [
    "!pip install pandas"
   ]
  },
  {
   "cell_type": "code",
   "execution_count": 1,
   "metadata": {},
   "outputs": [],
   "source": [
    "import networkx as nx"
   ]
  },
  {
   "source": [
    "Inicialmente, cria-se o grafo com as cidades e adicionam-se arestas de acordo com o enunciado da atividade"
   ],
   "cell_type": "markdown",
   "metadata": {}
  },
  {
   "cell_type": "code",
   "execution_count": 3,
   "metadata": {},
   "outputs": [],
   "source": [
    "\n",
    "grafo_cidades = nx.Graph()\n",
    "grafo_cidades.add_edge(\"Arad\",\"Zerind\", weight=75, visitado= False)\n",
    "grafo_cidades.add_edge(\"Arad\",\"Sibiu\", weight=140, visitado= False)\n",
    "grafo_cidades.add_edge(\"Arad\",\"Timisoara\", weight=118, visitado= False)\n",
    "grafo_cidades.add_edge(\"Timisoara\",\"Lugoj\", weight=111, visitado= False)\n",
    "grafo_cidades.add_edge(\"Sibiu\",\"Oradea\", weight=151, visitado= False)\n",
    "grafo_cidades.add_edge(\"Oradea\",\"Zerind\", weight=71, visitado= False)\n",
    "grafo_cidades.add_edge(\"Sibiu\",\"Fagaras\", weight=99, visitado= False)\n",
    "grafo_cidades.add_edge(\"Sibiu\",\"Rimnicu Vilcea\", weight=80, visitado= False)\n",
    "grafo_cidades.add_edge(\"Lugoj\",\"Mehadia\", weight=70, visitado= False)\n",
    "grafo_cidades.add_edge(\"Rimnicu Vilcea\",\"Craiova\", weight=146, visitado= False)\n",
    "grafo_cidades.add_edge(\"Rimnicu Vilcea\",\"Pitesti\", weight=97, visitado= False)\n",
    "grafo_cidades.add_edge(\"Fagaras\",\"Bucareste\", weight=211, visitado= False)\n",
    "grafo_cidades.add_edge(\"Pitesti\",\"Bucareste\", weight=101, visitado= False)\n",
    "grafo_cidades.add_edge(\"Pitesti\",\"Craiova\", weight=138, visitado= False)\n",
    "grafo_cidades.add_edge(\"Mehadia\",\"Drobeta\", weight=75, visitado= False)\n",
    "grafo_cidades.add_edge(\"Drobeta\",\"Craiova\", weight=120, visitado= False)\n",
    "grafo_cidades.add_edge(\"Bucareste\",\"Giurgiu\", weight=90, visitado= False)\n",
    "grafo_cidades.add_edge(\"Bucareste\",\"Urziceni\", weight=85, visitado= False)\n",
    "grafo_cidades.add_edge(\"Urziceni\",\"Hirsova\", weight=98, visitado= False)\n",
    "grafo_cidades.add_edge(\"Urziceni\",\"Vaslui\", weight=142, visitado= False)\n",
    "grafo_cidades.add_edge(\"Hirsova\",\"Eforie\", weight=86, visitado= False)\n",
    "grafo_cidades.add_edge(\"Vaslui\",\"Iasi\", weight=92, visitado= False)\n",
    "grafo_cidades.add_edge(\"Iasi\",\"Neamt\", weight=87)\n"
   ]
  },
  {
   "source": [
    "Exibição da matriz de adjacência:"
   ],
   "cell_type": "markdown",
   "metadata": {}
  },
  {
   "cell_type": "code",
   "execution_count": 6,
   "metadata": {},
   "outputs": [
    {
     "output_type": "execute_result",
     "data": {
      "text/plain": [
       "                 Arad  Zerind  Sibiu  Timisoara  Lugoj  Oradea  Fagaras  \\\n",
       "Arad              0.0    75.0  140.0      118.0    0.0     0.0      0.0   \n",
       "Zerind           75.0     0.0    0.0        0.0    0.0    71.0      0.0   \n",
       "Sibiu           140.0     0.0    0.0        0.0    0.0   151.0     99.0   \n",
       "Timisoara       118.0     0.0    0.0        0.0  111.0     0.0      0.0   \n",
       "Lugoj             0.0     0.0    0.0      111.0    0.0     0.0      0.0   \n",
       "Oradea            0.0    71.0  151.0        0.0    0.0     0.0      0.0   \n",
       "Fagaras           0.0     0.0   99.0        0.0    0.0     0.0      0.0   \n",
       "Rimnicu Vilcea    0.0     0.0   80.0        0.0    0.0     0.0      0.0   \n",
       "Mehadia           0.0     0.0    0.0        0.0   70.0     0.0      0.0   \n",
       "Craiova           0.0     0.0    0.0        0.0    0.0     0.0      0.0   \n",
       "Pitesti           0.0     0.0    0.0        0.0    0.0     0.0      0.0   \n",
       "Bucareste         0.0     0.0    0.0        0.0    0.0     0.0    211.0   \n",
       "Drobeta           0.0     0.0    0.0        0.0    0.0     0.0      0.0   \n",
       "Giurgiu           0.0     0.0    0.0        0.0    0.0     0.0      0.0   \n",
       "Urziceni          0.0     0.0    0.0        0.0    0.0     0.0      0.0   \n",
       "Hirsova           0.0     0.0    0.0        0.0    0.0     0.0      0.0   \n",
       "Vaslui            0.0     0.0    0.0        0.0    0.0     0.0      0.0   \n",
       "Eforie            0.0     0.0    0.0        0.0    0.0     0.0      0.0   \n",
       "Iasi              0.0     0.0    0.0        0.0    0.0     0.0      0.0   \n",
       "Neamt             0.0     0.0    0.0        0.0    0.0     0.0      0.0   \n",
       "\n",
       "                Rimnicu Vilcea  Mehadia  Craiova  Pitesti  Bucareste  Drobeta  \\\n",
       "Arad                       0.0      0.0      0.0      0.0        0.0      0.0   \n",
       "Zerind                     0.0      0.0      0.0      0.0        0.0      0.0   \n",
       "Sibiu                     80.0      0.0      0.0      0.0        0.0      0.0   \n",
       "Timisoara                  0.0      0.0      0.0      0.0        0.0      0.0   \n",
       "Lugoj                      0.0     70.0      0.0      0.0        0.0      0.0   \n",
       "Oradea                     0.0      0.0      0.0      0.0        0.0      0.0   \n",
       "Fagaras                    0.0      0.0      0.0      0.0      211.0      0.0   \n",
       "Rimnicu Vilcea             0.0      0.0    146.0     97.0        0.0      0.0   \n",
       "Mehadia                    0.0      0.0      0.0      0.0        0.0     75.0   \n",
       "Craiova                  146.0      0.0      0.0    138.0        0.0    120.0   \n",
       "Pitesti                   97.0      0.0    138.0      0.0      101.0      0.0   \n",
       "Bucareste                  0.0      0.0      0.0    101.0        0.0      0.0   \n",
       "Drobeta                    0.0     75.0    120.0      0.0        0.0      0.0   \n",
       "Giurgiu                    0.0      0.0      0.0      0.0       90.0      0.0   \n",
       "Urziceni                   0.0      0.0      0.0      0.0       85.0      0.0   \n",
       "Hirsova                    0.0      0.0      0.0      0.0        0.0      0.0   \n",
       "Vaslui                     0.0      0.0      0.0      0.0        0.0      0.0   \n",
       "Eforie                     0.0      0.0      0.0      0.0        0.0      0.0   \n",
       "Iasi                       0.0      0.0      0.0      0.0        0.0      0.0   \n",
       "Neamt                      0.0      0.0      0.0      0.0        0.0      0.0   \n",
       "\n",
       "                Giurgiu  Urziceni  Hirsova  Vaslui  Eforie  Iasi  Neamt  \n",
       "Arad                0.0       0.0      0.0     0.0     0.0   0.0    0.0  \n",
       "Zerind              0.0       0.0      0.0     0.0     0.0   0.0    0.0  \n",
       "Sibiu               0.0       0.0      0.0     0.0     0.0   0.0    0.0  \n",
       "Timisoara           0.0       0.0      0.0     0.0     0.0   0.0    0.0  \n",
       "Lugoj               0.0       0.0      0.0     0.0     0.0   0.0    0.0  \n",
       "Oradea              0.0       0.0      0.0     0.0     0.0   0.0    0.0  \n",
       "Fagaras             0.0       0.0      0.0     0.0     0.0   0.0    0.0  \n",
       "Rimnicu Vilcea      0.0       0.0      0.0     0.0     0.0   0.0    0.0  \n",
       "Mehadia             0.0       0.0      0.0     0.0     0.0   0.0    0.0  \n",
       "Craiova             0.0       0.0      0.0     0.0     0.0   0.0    0.0  \n",
       "Pitesti             0.0       0.0      0.0     0.0     0.0   0.0    0.0  \n",
       "Bucareste          90.0      85.0      0.0     0.0     0.0   0.0    0.0  \n",
       "Drobeta             0.0       0.0      0.0     0.0     0.0   0.0    0.0  \n",
       "Giurgiu             0.0       0.0      0.0     0.0     0.0   0.0    0.0  \n",
       "Urziceni            0.0       0.0     98.0   142.0     0.0   0.0    0.0  \n",
       "Hirsova             0.0      98.0      0.0     0.0    86.0   0.0    0.0  \n",
       "Vaslui              0.0     142.0      0.0     0.0     0.0  92.0    0.0  \n",
       "Eforie              0.0       0.0     86.0     0.0     0.0   0.0    0.0  \n",
       "Iasi                0.0       0.0      0.0    92.0     0.0   0.0   87.0  \n",
       "Neamt               0.0       0.0      0.0     0.0     0.0  87.0    0.0  "
      ],
      "text/html": "<div>\n<style scoped>\n    .dataframe tbody tr th:only-of-type {\n        vertical-align: middle;\n    }\n\n    .dataframe tbody tr th {\n        vertical-align: top;\n    }\n\n    .dataframe thead th {\n        text-align: right;\n    }\n</style>\n<table border=\"1\" class=\"dataframe\">\n  <thead>\n    <tr style=\"text-align: right;\">\n      <th></th>\n      <th>Arad</th>\n      <th>Zerind</th>\n      <th>Sibiu</th>\n      <th>Timisoara</th>\n      <th>Lugoj</th>\n      <th>Oradea</th>\n      <th>Fagaras</th>\n      <th>Rimnicu Vilcea</th>\n      <th>Mehadia</th>\n      <th>Craiova</th>\n      <th>Pitesti</th>\n      <th>Bucareste</th>\n      <th>Drobeta</th>\n      <th>Giurgiu</th>\n      <th>Urziceni</th>\n      <th>Hirsova</th>\n      <th>Vaslui</th>\n      <th>Eforie</th>\n      <th>Iasi</th>\n      <th>Neamt</th>\n    </tr>\n  </thead>\n  <tbody>\n    <tr>\n      <th>Arad</th>\n      <td>0.0</td>\n      <td>75.0</td>\n      <td>140.0</td>\n      <td>118.0</td>\n      <td>0.0</td>\n      <td>0.0</td>\n      <td>0.0</td>\n      <td>0.0</td>\n      <td>0.0</td>\n      <td>0.0</td>\n      <td>0.0</td>\n      <td>0.0</td>\n      <td>0.0</td>\n      <td>0.0</td>\n      <td>0.0</td>\n      <td>0.0</td>\n      <td>0.0</td>\n      <td>0.0</td>\n      <td>0.0</td>\n      <td>0.0</td>\n    </tr>\n    <tr>\n      <th>Zerind</th>\n      <td>75.0</td>\n      <td>0.0</td>\n      <td>0.0</td>\n      <td>0.0</td>\n      <td>0.0</td>\n      <td>71.0</td>\n      <td>0.0</td>\n      <td>0.0</td>\n      <td>0.0</td>\n      <td>0.0</td>\n      <td>0.0</td>\n      <td>0.0</td>\n      <td>0.0</td>\n      <td>0.0</td>\n      <td>0.0</td>\n      <td>0.0</td>\n      <td>0.0</td>\n      <td>0.0</td>\n      <td>0.0</td>\n      <td>0.0</td>\n    </tr>\n    <tr>\n      <th>Sibiu</th>\n      <td>140.0</td>\n      <td>0.0</td>\n      <td>0.0</td>\n      <td>0.0</td>\n      <td>0.0</td>\n      <td>151.0</td>\n      <td>99.0</td>\n      <td>80.0</td>\n      <td>0.0</td>\n      <td>0.0</td>\n      <td>0.0</td>\n      <td>0.0</td>\n      <td>0.0</td>\n      <td>0.0</td>\n      <td>0.0</td>\n      <td>0.0</td>\n      <td>0.0</td>\n      <td>0.0</td>\n      <td>0.0</td>\n      <td>0.0</td>\n    </tr>\n    <tr>\n      <th>Timisoara</th>\n      <td>118.0</td>\n      <td>0.0</td>\n      <td>0.0</td>\n      <td>0.0</td>\n      <td>111.0</td>\n      <td>0.0</td>\n      <td>0.0</td>\n      <td>0.0</td>\n      <td>0.0</td>\n      <td>0.0</td>\n      <td>0.0</td>\n      <td>0.0</td>\n      <td>0.0</td>\n      <td>0.0</td>\n      <td>0.0</td>\n      <td>0.0</td>\n      <td>0.0</td>\n      <td>0.0</td>\n      <td>0.0</td>\n      <td>0.0</td>\n    </tr>\n    <tr>\n      <th>Lugoj</th>\n      <td>0.0</td>\n      <td>0.0</td>\n      <td>0.0</td>\n      <td>111.0</td>\n      <td>0.0</td>\n      <td>0.0</td>\n      <td>0.0</td>\n      <td>0.0</td>\n      <td>70.0</td>\n      <td>0.0</td>\n      <td>0.0</td>\n      <td>0.0</td>\n      <td>0.0</td>\n      <td>0.0</td>\n      <td>0.0</td>\n      <td>0.0</td>\n      <td>0.0</td>\n      <td>0.0</td>\n      <td>0.0</td>\n      <td>0.0</td>\n    </tr>\n    <tr>\n      <th>Oradea</th>\n      <td>0.0</td>\n      <td>71.0</td>\n      <td>151.0</td>\n      <td>0.0</td>\n      <td>0.0</td>\n      <td>0.0</td>\n      <td>0.0</td>\n      <td>0.0</td>\n      <td>0.0</td>\n      <td>0.0</td>\n      <td>0.0</td>\n      <td>0.0</td>\n      <td>0.0</td>\n      <td>0.0</td>\n      <td>0.0</td>\n      <td>0.0</td>\n      <td>0.0</td>\n      <td>0.0</td>\n      <td>0.0</td>\n      <td>0.0</td>\n    </tr>\n    <tr>\n      <th>Fagaras</th>\n      <td>0.0</td>\n      <td>0.0</td>\n      <td>99.0</td>\n      <td>0.0</td>\n      <td>0.0</td>\n      <td>0.0</td>\n      <td>0.0</td>\n      <td>0.0</td>\n      <td>0.0</td>\n      <td>0.0</td>\n      <td>0.0</td>\n      <td>211.0</td>\n      <td>0.0</td>\n      <td>0.0</td>\n      <td>0.0</td>\n      <td>0.0</td>\n      <td>0.0</td>\n      <td>0.0</td>\n      <td>0.0</td>\n      <td>0.0</td>\n    </tr>\n    <tr>\n      <th>Rimnicu Vilcea</th>\n      <td>0.0</td>\n      <td>0.0</td>\n      <td>80.0</td>\n      <td>0.0</td>\n      <td>0.0</td>\n      <td>0.0</td>\n      <td>0.0</td>\n      <td>0.0</td>\n      <td>0.0</td>\n      <td>146.0</td>\n      <td>97.0</td>\n      <td>0.0</td>\n      <td>0.0</td>\n      <td>0.0</td>\n      <td>0.0</td>\n      <td>0.0</td>\n      <td>0.0</td>\n      <td>0.0</td>\n      <td>0.0</td>\n      <td>0.0</td>\n    </tr>\n    <tr>\n      <th>Mehadia</th>\n      <td>0.0</td>\n      <td>0.0</td>\n      <td>0.0</td>\n      <td>0.0</td>\n      <td>70.0</td>\n      <td>0.0</td>\n      <td>0.0</td>\n      <td>0.0</td>\n      <td>0.0</td>\n      <td>0.0</td>\n      <td>0.0</td>\n      <td>0.0</td>\n      <td>75.0</td>\n      <td>0.0</td>\n      <td>0.0</td>\n      <td>0.0</td>\n      <td>0.0</td>\n      <td>0.0</td>\n      <td>0.0</td>\n      <td>0.0</td>\n    </tr>\n    <tr>\n      <th>Craiova</th>\n      <td>0.0</td>\n      <td>0.0</td>\n      <td>0.0</td>\n      <td>0.0</td>\n      <td>0.0</td>\n      <td>0.0</td>\n      <td>0.0</td>\n      <td>146.0</td>\n      <td>0.0</td>\n      <td>0.0</td>\n      <td>138.0</td>\n      <td>0.0</td>\n      <td>120.0</td>\n      <td>0.0</td>\n      <td>0.0</td>\n      <td>0.0</td>\n      <td>0.0</td>\n      <td>0.0</td>\n      <td>0.0</td>\n      <td>0.0</td>\n    </tr>\n    <tr>\n      <th>Pitesti</th>\n      <td>0.0</td>\n      <td>0.0</td>\n      <td>0.0</td>\n      <td>0.0</td>\n      <td>0.0</td>\n      <td>0.0</td>\n      <td>0.0</td>\n      <td>97.0</td>\n      <td>0.0</td>\n      <td>138.0</td>\n      <td>0.0</td>\n      <td>101.0</td>\n      <td>0.0</td>\n      <td>0.0</td>\n      <td>0.0</td>\n      <td>0.0</td>\n      <td>0.0</td>\n      <td>0.0</td>\n      <td>0.0</td>\n      <td>0.0</td>\n    </tr>\n    <tr>\n      <th>Bucareste</th>\n      <td>0.0</td>\n      <td>0.0</td>\n      <td>0.0</td>\n      <td>0.0</td>\n      <td>0.0</td>\n      <td>0.0</td>\n      <td>211.0</td>\n      <td>0.0</td>\n      <td>0.0</td>\n      <td>0.0</td>\n      <td>101.0</td>\n      <td>0.0</td>\n      <td>0.0</td>\n      <td>90.0</td>\n      <td>85.0</td>\n      <td>0.0</td>\n      <td>0.0</td>\n      <td>0.0</td>\n      <td>0.0</td>\n      <td>0.0</td>\n    </tr>\n    <tr>\n      <th>Drobeta</th>\n      <td>0.0</td>\n      <td>0.0</td>\n      <td>0.0</td>\n      <td>0.0</td>\n      <td>0.0</td>\n      <td>0.0</td>\n      <td>0.0</td>\n      <td>0.0</td>\n      <td>75.0</td>\n      <td>120.0</td>\n      <td>0.0</td>\n      <td>0.0</td>\n      <td>0.0</td>\n      <td>0.0</td>\n      <td>0.0</td>\n      <td>0.0</td>\n      <td>0.0</td>\n      <td>0.0</td>\n      <td>0.0</td>\n      <td>0.0</td>\n    </tr>\n    <tr>\n      <th>Giurgiu</th>\n      <td>0.0</td>\n      <td>0.0</td>\n      <td>0.0</td>\n      <td>0.0</td>\n      <td>0.0</td>\n      <td>0.0</td>\n      <td>0.0</td>\n      <td>0.0</td>\n      <td>0.0</td>\n      <td>0.0</td>\n      <td>0.0</td>\n      <td>90.0</td>\n      <td>0.0</td>\n      <td>0.0</td>\n      <td>0.0</td>\n      <td>0.0</td>\n      <td>0.0</td>\n      <td>0.0</td>\n      <td>0.0</td>\n      <td>0.0</td>\n    </tr>\n    <tr>\n      <th>Urziceni</th>\n      <td>0.0</td>\n      <td>0.0</td>\n      <td>0.0</td>\n      <td>0.0</td>\n      <td>0.0</td>\n      <td>0.0</td>\n      <td>0.0</td>\n      <td>0.0</td>\n      <td>0.0</td>\n      <td>0.0</td>\n      <td>0.0</td>\n      <td>85.0</td>\n      <td>0.0</td>\n      <td>0.0</td>\n      <td>0.0</td>\n      <td>98.0</td>\n      <td>142.0</td>\n      <td>0.0</td>\n      <td>0.0</td>\n      <td>0.0</td>\n    </tr>\n    <tr>\n      <th>Hirsova</th>\n      <td>0.0</td>\n      <td>0.0</td>\n      <td>0.0</td>\n      <td>0.0</td>\n      <td>0.0</td>\n      <td>0.0</td>\n      <td>0.0</td>\n      <td>0.0</td>\n      <td>0.0</td>\n      <td>0.0</td>\n      <td>0.0</td>\n      <td>0.0</td>\n      <td>0.0</td>\n      <td>0.0</td>\n      <td>98.0</td>\n      <td>0.0</td>\n      <td>0.0</td>\n      <td>86.0</td>\n      <td>0.0</td>\n      <td>0.0</td>\n    </tr>\n    <tr>\n      <th>Vaslui</th>\n      <td>0.0</td>\n      <td>0.0</td>\n      <td>0.0</td>\n      <td>0.0</td>\n      <td>0.0</td>\n      <td>0.0</td>\n      <td>0.0</td>\n      <td>0.0</td>\n      <td>0.0</td>\n      <td>0.0</td>\n      <td>0.0</td>\n      <td>0.0</td>\n      <td>0.0</td>\n      <td>0.0</td>\n      <td>142.0</td>\n      <td>0.0</td>\n      <td>0.0</td>\n      <td>0.0</td>\n      <td>92.0</td>\n      <td>0.0</td>\n    </tr>\n    <tr>\n      <th>Eforie</th>\n      <td>0.0</td>\n      <td>0.0</td>\n      <td>0.0</td>\n      <td>0.0</td>\n      <td>0.0</td>\n      <td>0.0</td>\n      <td>0.0</td>\n      <td>0.0</td>\n      <td>0.0</td>\n      <td>0.0</td>\n      <td>0.0</td>\n      <td>0.0</td>\n      <td>0.0</td>\n      <td>0.0</td>\n      <td>0.0</td>\n      <td>86.0</td>\n      <td>0.0</td>\n      <td>0.0</td>\n      <td>0.0</td>\n      <td>0.0</td>\n    </tr>\n    <tr>\n      <th>Iasi</th>\n      <td>0.0</td>\n      <td>0.0</td>\n      <td>0.0</td>\n      <td>0.0</td>\n      <td>0.0</td>\n      <td>0.0</td>\n      <td>0.0</td>\n      <td>0.0</td>\n      <td>0.0</td>\n      <td>0.0</td>\n      <td>0.0</td>\n      <td>0.0</td>\n      <td>0.0</td>\n      <td>0.0</td>\n      <td>0.0</td>\n      <td>0.0</td>\n      <td>92.0</td>\n      <td>0.0</td>\n      <td>0.0</td>\n      <td>87.0</td>\n    </tr>\n    <tr>\n      <th>Neamt</th>\n      <td>0.0</td>\n      <td>0.0</td>\n      <td>0.0</td>\n      <td>0.0</td>\n      <td>0.0</td>\n      <td>0.0</td>\n      <td>0.0</td>\n      <td>0.0</td>\n      <td>0.0</td>\n      <td>0.0</td>\n      <td>0.0</td>\n      <td>0.0</td>\n      <td>0.0</td>\n      <td>0.0</td>\n      <td>0.0</td>\n      <td>0.0</td>\n      <td>0.0</td>\n      <td>0.0</td>\n      <td>87.0</td>\n      <td>0.0</td>\n    </tr>\n  </tbody>\n</table>\n</div>"
     },
     "metadata": {},
     "execution_count": 6
    }
   ],
   "source": [
    "nx.to_pandas_adjacency(grafo_cidades)"
   ]
  },
  {
   "source": [
    "Criação de um dicionário para armazenar as distâncias em linha reta até Bucareste - heurística"
   ],
   "cell_type": "markdown",
   "metadata": {}
  },
  {
   "cell_type": "code",
   "execution_count": 5,
   "metadata": {},
   "outputs": [
    {
     "output_type": "execute_result",
     "data": {
      "text/plain": [
       "{'Arad': 366,\n",
       " 'Bucareste': 0,\n",
       " 'Craiova': 160,\n",
       " 'Drobeta': 242,\n",
       " 'Eforie': 161,\n",
       " 'Fagaras': 176,\n",
       " 'Giurgiu': 77,\n",
       " 'Hirsova': 151,\n",
       " 'Iasi': 226,\n",
       " 'Lugoj': 244,\n",
       " 'Mehadia': 241,\n",
       " 'Neamt': 234,\n",
       " 'Oradea': 380,\n",
       " 'Pitesti': 100,\n",
       " 'Rimnicu Vilcea': 193,\n",
       " 'Sibiu': 253,\n",
       " 'Timisoara': 329,\n",
       " 'Urziceni': 80,\n",
       " 'Vaslui': 199,\n",
       " 'Zerind': 374}"
      ]
     },
     "metadata": {},
     "execution_count": 5
    }
   ],
   "source": [
    "\n",
    "dist_bucareste = dict()\n",
    "dist_bucareste[\"Arad\"] = 366\n",
    "dist_bucareste[\"Bucareste\"] = 0\n",
    "dist_bucareste[\"Craiova\"] = 160\n",
    "dist_bucareste[\"Drobeta\"] = 242\n",
    "dist_bucareste[\"Eforie\"] = 161\n",
    "dist_bucareste[\"Fagaras\"] = 176\n",
    "dist_bucareste[\"Giurgiu\"] = 77\n",
    "dist_bucareste[\"Hirsova\"] = 151\n",
    "dist_bucareste[\"Iasi\"] = 226\n",
    "dist_bucareste[\"Lugoj\"] = 244\n",
    "dist_bucareste[\"Mehadia\"] = 241\n",
    "dist_bucareste[\"Neamt\"] = 234\n",
    "dist_bucareste[\"Oradea\"] = 380\n",
    "dist_bucareste[\"Pitesti\"] = 100\n",
    "dist_bucareste[\"Rimnicu Vilcea\"] = 193\n",
    "dist_bucareste[\"Sibiu\"] = 253\n",
    "dist_bucareste[\"Timisoara\"] = 329\n",
    "dist_bucareste[\"Urziceni\"] = 80\n",
    "dist_bucareste[\"Vaslui\"] = 199\n",
    "dist_bucareste[\"Zerind\"] = 374\n",
    "\n",
    "dist_bucareste\n"
   ]
  },
  {
   "source": [
    "O algoritmo inicia no nó correspondente à cidade de Arad. Busca-se chegar a Bucareste considerando a seguinte função de avaliação a cada abertura de caminho:\n",
    "\n",
    "<h4>f(n) = g(n) + h(n)</h4>\n",
    "\n",
    "Onde g(n) é o custo até alcançar o nó n até o momento e h(n) é a heurística de distância em linha reta.\n",
    "A partir de f, escolhe-se o caminho no qual f é menor. Para isso, são abertos todos os caminhos existentes a partir do nó atual e realizada a comparação do valor de f entre eles.\n",
    "Após a escolha do menor, outros caminhos são abertos e, novamente, o f é comparado. Importante dizer que os caminhos anteriores não são descartados, sendo avaliados a cada nova abertura com relação ao valor de f."
   ],
   "cell_type": "markdown",
   "metadata": {}
  },
  {
   "cell_type": "code",
   "execution_count": 21,
   "metadata": {},
   "outputs": [
    {
     "output_type": "stream",
     "name": "stdout",
     "text": [
      "No atual:  Arad\nf:  366\ng:  0\nh:  366\n\nNó escolhido: Sibiu - f: 393, g: 140, h: 253\n\nDemais opções:\nTimisoara - f: 447, g: 118, h: 329\nZerind - f: 449, g: 75, h: 374\n======================================\n\nNo atual:  Sibiu\nf:  393\ng:  140\nh:  253\n\nNó escolhido: Rimnicu Vilcea - f: 413, g: 220, h: 193\n\nDemais opções:\nFagaras - f: 415, g: 239, h: 176\nTimisoara - f: 447, g: 118, h: 329\nZerind - f: 449, g: 75, h: 374\nArad - f: 646, g: 280, h: 366\nOradea - f: 671, g: 291, h: 380\n======================================\n\nNo atual:  Rimnicu Vilcea\nf:  413\ng:  220\nh:  193\n\nNó escolhido: Fagaras - f: 415, g: 239, h: 176\n\nDemais opções:\nPitesti - f: 417, g: 317, h: 100\nTimisoara - f: 447, g: 118, h: 329\nZerind - f: 449, g: 75, h: 374\nCraiova - f: 526, g: 366, h: 160\nSibiu - f: 553, g: 300, h: 253\nArad - f: 646, g: 280, h: 366\nOradea - f: 671, g: 291, h: 380\n======================================\n\nNo atual:  Fagaras\nf:  415\ng:  239\nh:  176\n\nNó escolhido: Pitesti - f: 417, g: 317, h: 100\n\nDemais opções:\nTimisoara - f: 447, g: 118, h: 329\nZerind - f: 449, g: 75, h: 374\nBucareste - f: 450, g: 450, h: 0\nCraiova - f: 526, g: 366, h: 160\nSibiu - f: 553, g: 300, h: 253\nSibiu - f: 591, g: 338, h: 253\nArad - f: 646, g: 280, h: 366\nOradea - f: 671, g: 291, h: 380\n======================================\n\nNo atual:  Pitesti\nf:  417\ng:  317\nh:  100\n\nNó escolhido: Bucareste - f: 418, g: 418, h: 0\n\nDemais opções:\nTimisoara - f: 447, g: 118, h: 329\nZerind - f: 449, g: 75, h: 374\nBucareste - f: 450, g: 450, h: 0\nCraiova - f: 526, g: 366, h: 160\nSibiu - f: 553, g: 300, h: 253\nSibiu - f: 591, g: 338, h: 253\nRimnicu Vilcea - f: 607, g: 414, h: 193\nCraiova - f: 615, g: 455, h: 160\nArad - f: 646, g: 280, h: 366\nOradea - f: 671, g: 291, h: 380\n======================================\n\nNo atual:  Bucareste\nf:  418\ng:  418\nh:  0\n\n\n*********\nCaminho escolhido: Arad  ->  Sibiu  ->  Rimnicu Vilcea  ->  Pitesti  ->  Bucareste - 418\n"
     ]
    }
   ],
   "source": [
    "no_atual = \"Arad\"\n",
    "no_final = \"Bucareste\"\n",
    "list_cidades = [no_atual]\n",
    "distancia = 0\n",
    "lista_caminhos = []\n",
    "caminho_escolhido = ([no_atual],0)\n",
    "\n",
    "while True:\n",
    "    f = caminho_escolhido[1] + dist_bucareste[no_atual]\n",
    "    print(\"No atual: \",no_atual)\n",
    "    print(\"f: \",f)\n",
    "    print(\"g: \",caminho_escolhido[1])\n",
    "    print(\"h: \",dist_bucareste[no_atual])\n",
    "    print()\n",
    "\n",
    "    # verifica se o nó atual eh o final. Se sim, sai do while\n",
    "    if (no_atual == no_final):\n",
    "        break\n",
    "    \n",
    "    for n in grafo_cidades.neighbors(no_atual):\n",
    "        caminho = caminho_escolhido[0].copy()\n",
    "        caminho.append(n)\n",
    "        lista_caminhos.append((caminho, caminho_escolhido[1] + grafo_cidades.get_edge_data(no_atual,n)['weight']))\n",
    "\n",
    "    lista_caminhos = sorted(lista_caminhos ,key=lambda x: x[1] + dist_bucareste[x[0][-1]])\n",
    "    caminho_escolhido = lista_caminhos[0]\n",
    "    del(lista_caminhos[0])\n",
    "\n",
    "    print(f'Nó escolhido: {caminho_escolhido[0][-1]} - f: {caminho_escolhido[1]+dist_bucareste[caminho_escolhido[0][-1]]}, g: {caminho_escolhido[1]}, h: {dist_bucareste[caminho_escolhido[0][-1]]}')\n",
    "    print()\n",
    "    print('Demais opções:')\n",
    "    for n in lista_caminhos:\n",
    "        print(f'{n[0][-1]} - f: {n[1]+dist_bucareste[n[0][-1]]}, g: {n[1]}, h: {dist_bucareste[n[0][-1]]}')\n",
    "    print(\"======================================\\n\")\n",
    "    list_cidades.append(caminho_escolhido[0][-1])\n",
    "    no_atual = list_cidades[-1]\n",
    "\n",
    "print('\\n*********')\n",
    "print(f\"Caminho escolhido: {'  ->  '.join(caminho_escolhido[0])} - {caminho_escolhido[1]}\")   \n"
   ]
  }
 ]
}