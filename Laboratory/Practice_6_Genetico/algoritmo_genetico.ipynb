{
 "metadata": {
  "language_info": {
   "codemirror_mode": {
    "name": "ipython",
    "version": 3
   },
   "file_extension": ".py",
   "mimetype": "text/x-python",
   "name": "python",
   "nbconvert_exporter": "python",
   "pygments_lexer": "ipython3",
   "version": "3.9.5"
  },
  "orig_nbformat": 4,
  "kernelspec": {
   "name": "python3",
   "display_name": "Python 3.9.5 64-bit"
  },
  "interpreter": {
   "hash": "af698c02722c81864863429d928a3bd8a8dcc030c4156359d3ef8b980fb01319"
  }
 },
 "nbformat": 4,
 "nbformat_minor": 2,
 "cells": [
  {
   "cell_type": "code",
   "execution_count": 152,
   "metadata": {},
   "outputs": [],
   "source": [
    "import math\n",
    "import random\n",
    "import pandas as pd\n",
    "import numpy as np"
   ]
  },
  {
   "cell_type": "code",
   "execution_count": 153,
   "metadata": {},
   "outputs": [],
   "source": [
    "# Funcao Objetivo\n",
    "def f_alpine02(x):\n",
    "    resultado = 1\n",
    "    for i, x_i in x.iteritems():\n",
    "        resultado = resultado * math.sin(x_i) * math.sqrt(x_i)\n",
    "    return resultado"
   ]
  },
  {
   "cell_type": "code",
   "execution_count": 154,
   "metadata": {},
   "outputs": [],
   "source": [
    "# Ordenar\n",
    "def ordena(df):\n",
    "    df['aux'] = df.apply(f_alpine02, axis=1)\n",
    "    df = df.sort_values('aux', ascending=False).drop('aux', axis = 1)\n",
    "    return df"
   ]
  },
  {
   "cell_type": "code",
   "execution_count": 155,
   "metadata": {},
   "outputs": [],
   "source": [
    "def ranking_linear(df, max, min):\n",
    "    Fx = []\n",
    "    df_ordenado = ordena(df)\n",
    "    df_ordenado = df_ordenado.reset_index(drop = True)\n",
    "    for i, row in df_ordenado.iterrows():\n",
    "        resultado = min + (max - min)*(( len(df_ordenado) - i - 1)/( len(df_ordenado) -1))\n",
    "        Fx.append(resultado)\n",
    "    return Fx"
   ]
  },
  {
   "cell_type": "code",
   "execution_count": 156,
   "metadata": {},
   "outputs": [],
   "source": [
    "# Mutacao\n",
    "def mutacao_uniforme(individuo, tx_mutacao):\n",
    "    individuo_mutado = []\n",
    "    # como a taxa de mutacao eh entre 0 e 1, temos:\n",
    "    for x_i in individuo:\n",
    "        rand = random()\n",
    "        if rand < tx_mutacao:\n",
    "            x_i = uniform(0.0, 10.0)\n",
    "        individuo_mutado.append(x_i)\n",
    "    return individuo_mutado"
   ]
  },
  {
   "cell_type": "code",
   "execution_count": 157,
   "metadata": {},
   "outputs": [],
   "source": [
    "def crossover(P1, P2):\n",
    "    C1 = P1\n",
    "    C2 = P2\n",
    "    alpha = random()\n",
    "    for i in range(len(P1)):\n",
    "        t = alpha*P1[i] + (1 - alpha)*P2[i]\n",
    "        s = alpha*P2[i] + (1 - alpha)*P1[i]\n",
    "\n",
    "        if t>=0 and t<=10 and s<=10 and s>=0:\n",
    "            C1[i] = t\n",
    "            C2[i] = s\n",
    "    return (C1, C2)"
   ]
  },
  {
   "cell_type": "code",
   "execution_count": 158,
   "metadata": {},
   "outputs": [
    {
     "output_type": "stream",
     "name": "stdout",
     "text": [
      "          X1        X2\n0   2.281759  4.471700\n1   9.174873  8.704912\n2   4.677795  3.623689\n3   3.799843  9.729852\n4   0.553608  2.572982\n..       ...       ...\n95  0.976131  0.360581\n96  4.694704  4.084694\n97  0.396580  8.125973\n98  0.186684  9.859912\n99  3.581429  6.171910\n\n[100 rows x 2 columns]\n          X1        X2\n5   7.678841  8.192528\n19  7.283883  8.370934\n76  8.466588  8.616092\n89  4.966038  5.083871\n8   5.382230  4.687267\n..       ...       ...\n30  8.511211  9.835035\n44  5.677908  8.608167\n35  6.998704  5.459003\n39  3.843814  7.636143\n94  8.556831  5.282721\n\n[100 rows x 2 columns]\n\n          X1        X2       aux\n0   2.281759  4.471700 -2.350634\n1   9.174873  8.704912  1.457135\n2   4.677795  3.623689  1.907722\n3   3.799843  9.729852  1.117237\n4   0.553608  2.572982  0.337880\n..       ...       ...       ...\n95  0.976131  0.360581  0.173385\n96  4.694704  4.084694  3.543807\n97  0.396580  8.125973  0.667919\n98  0.186684  9.859912 -0.106146\n99  3.581429  6.171910  0.222299\n\n[100 rows x 3 columns]\n"
     ]
    }
   ],
   "source": [
    "# define tamanho da populacao\n",
    "tamanho_pop = 100\n",
    "\n",
    "# Cria dataframe e preenche com valores randomicos\n",
    "populacao = pd.DataFrame(np.random.uniform(0.0, 10.0, size=(tamanho_pop, 2)), columns=['X1', 'X2'])\n",
    "print(populacao)\n",
    "\n",
    "# melhor\n",
    "best = []\n",
    "pior = []\n",
    "melhor = []\n",
    "media = []\n",
    "# num geracoes\n",
    "geracoes_total = 50\n",
    "\n",
    "while (geracao <= geracoes_total) : \n",
    "    # Pegar melhor individuo da geracao atual\n",
    "    '''for i, row in df.iterrows():\n",
    "        if best == []:\n",
    "            best = row\n",
    "        elif f_alpine02(row) > f_alpine02(best):\n",
    "            best = row\n",
    "    melhor.append(best)'''\n",
    "    populacao_ordenada = ordena(populacao)\n",
    "    best = populacao_ordenada.loc[0]\n",
    "    melhor.append(best)\n",
    "    pior.append(populacao_ordenada[99])\n",
    "    #media.append()\n",
    "\n",
    "    nova_populacao = pd.DataFrame(columns = ['X1', 'X2'])\n",
    "    for i in range(0, (tamanho_pop/2)):\n",
    "        \n",
    "Fx = ranking_linear(populacao, 10, 0)\n",
    "a = populacao.values\n",
    "print(populacao)"
   ]
  }
 ]
}