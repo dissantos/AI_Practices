{
 "metadata": {
  "language_info": {
   "codemirror_mode": {
    "name": "ipython",
    "version": 3
   },
   "file_extension": ".py",
   "mimetype": "text/x-python",
   "name": "python",
   "nbconvert_exporter": "python",
   "pygments_lexer": "ipython3",
   "version": "3.8.3"
  },
  "orig_nbformat": 4,
  "kernelspec": {
   "name": "python3",
   "display_name": "Python 3.8.3 64-bit ('Python38')"
  },
  "interpreter": {
   "hash": "6bec934cc8c95f7e020717dae610fe5071a0517b3a583c7b2a5b8d62b112d875"
  }
 },
 "nbformat": 4,
 "nbformat_minor": 2,
 "cells": [
  {
   "cell_type": "code",
   "execution_count": null,
   "source": [
    "\r\n"
   ],
   "outputs": [],
   "metadata": {}
  },
  {
   "cell_type": "code",
   "execution_count": 1,
   "source": [
    "import math\r\n",
    "import random\r\n",
    "import pandas as pd\r\n",
    "import numpy as np"
   ],
   "outputs": [],
   "metadata": {}
  },
  {
   "cell_type": "code",
   "execution_count": 2,
   "source": [
    "# Funcao Objetivo\r\n",
    "def f_alpine02(x):\r\n",
    "    resultado = 1\r\n",
    "    for i, x_i in x.iteritems():\r\n",
    "        resultado = resultado * math.sin(x_i) * math.sqrt(x_i)\r\n",
    "    return resultado"
   ],
   "outputs": [],
   "metadata": {}
  },
  {
   "cell_type": "code",
   "execution_count": 3,
   "source": [
    "# Ordenar\r\n",
    "def ordena(df):\r\n",
    "    df['aux'] = df.apply(f_alpine02, axis=1)\r\n",
    "    df = df.sort_values('aux', ascending=False).drop('aux', axis = 1)\r\n",
    "    return df.reset_index(drop=True)"
   ],
   "outputs": [],
   "metadata": {}
  },
  {
   "cell_type": "code",
   "execution_count": 4,
   "source": [
    "def ranking_linear(df, max, min):\r\n",
    "    Fx = []\r\n",
    "    df_ordenado = ordena(df)\r\n",
    "    df_ordenado = df_ordenado.reset_index(drop = True)\r\n",
    "    for i, row in df_ordenado.iterrows():\r\n",
    "        resultado = min + (max - min)*(( len(df_ordenado) - i - 1)/( len(df_ordenado) -1))\r\n",
    "        Fx.append(resultado)\r\n",
    "    return Fx"
   ],
   "outputs": [],
   "metadata": {}
  },
  {
   "cell_type": "code",
   "execution_count": 5,
   "source": [
    "# Mutacao\r\n",
    "def mutacao_uniforme(individuo, tx_mutacao):\r\n",
    "    individuo_mutado = []\r\n",
    "    # como a taxa de mutacao eh entre 0 e 1, temos:\r\n",
    "    for x_i in individuo:\r\n",
    "        rand = np.random.random()\r\n",
    "        if rand < tx_mutacao:\r\n",
    "            x_i = np.random.uniform(0.0, 10.0)\r\n",
    "        individuo_mutado.append(x_i)\r\n",
    "    return individuo_mutado"
   ],
   "outputs": [],
   "metadata": {}
  },
  {
   "cell_type": "code",
   "execution_count": 6,
   "source": [
    "def crossover(P1, P2):\r\n",
    "    C1 = P1\r\n",
    "    C2 = P2\r\n",
    "    alpha = np.random.random()\r\n",
    "    #print('olha ele aqui ----', alpha)\r\n",
    "    for i in range(len(P1)):\r\n",
    "        t = alpha*P1[i] + (1 - alpha)*P2[i]\r\n",
    "        s = alpha*P2[i] + (1 - alpha)*P1[i]\r\n",
    "\r\n",
    "        if t>=0 and t<=10 and s<=10 and s>=0:\r\n",
    "            C1[i] = t\r\n",
    "            C2[i] = s\r\n",
    "    return (C1, C2)"
   ],
   "outputs": [],
   "metadata": {}
  },
  {
   "cell_type": "code",
   "execution_count": 7,
   "source": [
    "# Netodo de selecao - roleta\r\n",
    "def selecao_roleta(Fx, df):\r\n",
    "    posicao = 0\r\n",
    "    soma_acumulada = np.cumsum(Fx)\r\n",
    "    tamanho = len(Fx)\r\n",
    "    limite = soma_acumulada[tamanho-1]\r\n",
    "    rand = np.random.uniform(0.0, limite)\r\n",
    "\r\n",
    "    for i, valor in enumerate(soma_acumulada):\r\n",
    "        if rand <= valor:\r\n",
    "            posicao = i\r\n",
    "            break\r\n",
    "    return df.loc[posicao]"
   ],
   "outputs": [],
   "metadata": {}
  },
  {
   "cell_type": "code",
   "execution_count": 8,
   "source": [
    "def selecao_torneio(df,n):\r\n",
    "    vencendor = None\r\n",
    "    for i in range(n):\r\n",
    "        i = np.random.randint(0,len(df))\r\n",
    "        if(vencendor == None):\r\n",
    "            vencedor = df.loc[i]\r\n",
    "        elif (vencedor < f_alpine02(df.loc[i])):\r\n",
    "            vencendor = df.loc[i]\r\n",
    "    \r\n",
    "    return vencedor\r\n",
    "    \r\n",
    "    "
   ],
   "outputs": [],
   "metadata": {}
  },
  {
   "cell_type": "code",
   "execution_count": 9,
   "source": [
    "from tqdm import tqdm\r\n",
    "# define tamanho da populacao\r\n",
    "tamanho_pop: int = 100\r\n",
    "tx_mutacao = 0.05\r\n",
    "\r\n",
    "# Cria dataframe e preenche com valores randomicos\r\n",
    "populacao = pd.DataFrame(np.random.uniform(0.0, 10.0, size=(tamanho_pop, 2)), columns=['X1', 'X2'])\r\n",
    "\r\n",
    "#print(populacao)\r\n",
    "\r\n",
    "# melhor\r\n",
    "best = []\r\n",
    "pior = []\r\n",
    "melhor = []\r\n",
    "media = []\r\n",
    "# num geracoes\r\n",
    "total_geracoes = 50\r\n",
    "\r\n",
    "for geracao in tqdm(range(total_geracoes)) : \r\n",
    "    # ordena\r\n",
    "    populacao_ordenada = ordena(populacao.copy()).reset_index(drop = True)\r\n",
    "    # Pegar melhor individuo da geracao atual\r\n",
    "    if geracao == 0:\r\n",
    "        best = populacao_ordenada.loc[0]\r\n",
    "    elif f_alpine02(best) < f_alpine02(populacao_ordenada.loc[0]):\r\n",
    "        best = populacao_ordenada.loc[0]\r\n",
    "        \r\n",
    "    melhor.append(populacao_ordenada.loc[0])\r\n",
    "    pior.append(populacao_ordenada.loc[99])\r\n",
    "    #media.append()\r\n",
    "\r\n",
    "    Fx = ranking_linear(populacao_ordenada, 10, 0)\r\n",
    "    populacao_ordenada = populacao_ordenada.drop('aux', axis=1)\r\n",
    "\r\n",
    "    nova_populacao = pd.DataFrame(columns = ['X1', 'X2'])\r\n",
    "    for i in range(0, int(tamanho_pop/2)):\r\n",
    "        # chama selecao\r\n",
    "        P1 = selecao_roleta(Fx, populacao_ordenada)\r\n",
    "        P2 = selecao_roleta(Fx, populacao_ordenada)\r\n",
    "\r\n",
    "        # transforma P1 e P2 em vetor\r\n",
    "        P1 = P1.to_numpy()\r\n",
    "        P2 = P2.to_numpy()\r\n",
    "\r\n",
    "        # faz crossover\r\n",
    "        C1, C2 = crossover(P1, P2)\r\n",
    "\r\n",
    "        # Realizar mutacao de C1 e C2\r\n",
    "        C1 = mutacao_uniforme(C1, tx_mutacao)\r\n",
    "        C2 = mutacao_uniforme(C2, tx_mutacao)\r\n",
    "        \r\n",
    "        nova_populacao=nova_populacao.append(pd.DataFrame(data=[C1, C2], columns = ['X1', 'X2'] ))\r\n",
    " \r\n",
    "    populacao = nova_populacao.reset_index(drop=True)\r\n",
    "\r\n",
    "print(f_alpine02(best))\r\n",
    "'''for i in melhor:\r\n",
    "    print(f_alpine02(i))\r\n",
    "print()\r\n",
    "for i in pior:\r\n",
    "    print(f_alpine02(i))'''"
   ],
   "outputs": [
    {
     "output_type": "stream",
     "name": "stderr",
     "text": [
      "100%|██████████| 50/50 [00:06<00:00,  7.96it/s]"
     ]
    },
    {
     "output_type": "stream",
     "name": "stdout",
     "text": [
      "7.673267134254619\n"
     ]
    },
    {
     "output_type": "stream",
     "name": "stderr",
     "text": [
      "\n"
     ]
    },
    {
     "output_type": "execute_result",
     "data": {
      "text/plain": [
       "'for i in melhor:\\n    print(f_alpine02(i))\\nprint()\\nfor i in pior:\\n    print(f_alpine02(i))'"
      ]
     },
     "metadata": {},
     "execution_count": 9
    }
   ],
   "metadata": {
    "tags": []
   }
  }
 ]
}