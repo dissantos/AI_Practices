{
 "cells": [
  {
   "cell_type": "markdown",
   "source": [
    "# TAREFA 6 - Algoritmo Genético\r\n",
    "\r\n",
    "<ul>\r\n",
    "<li>Diego Santos Gonçalves - 20183012537</li>\r\n",
    "<li>Mariana Bulgarelli Alves dos Santos - 20183000330</li>\r\n",
    "</ul>\r\n",
    "\r\n",
    "Para executar este notebook, é necessária a instalação das seguintes bibliotecas:\r\n",
    "<ul>\r\n",
    "<li>numpy </li>\r\n",
    "<li>pandas</li>\r\n",
    "<li>random </li>\r\n",
    "<li>matplotlib - para criação dos gráficos </li>\r\n",
    "<li>mpl_toolkits - para criação dos gráficos 3d</li>\r\n",
    "<li>tqdm - para barra progresso </li>\r\n",
    "</ul>"
   ],
   "metadata": {}
  },
  {
   "cell_type": "code",
   "execution_count": 62,
   "source": [
    "from tqdm import tqdm\r\n",
    "import math\r\n",
    "import random\r\n",
    "import pandas as pd\r\n",
    "import numpy as np\r\n",
    "from matplotlib import pyplot as plt\r\n",
    "from mpl_toolkits import mplot3d"
   ],
   "outputs": [],
   "metadata": {}
  },
  {
   "cell_type": "markdown",
   "source": [
    "## Função Objetivo\r\n",
    "Nós implementamos a função objetivo dada para o problema: função alpine 02. Neste caso nossa função terá apenas duas entradas (x1, x2)."
   ],
   "metadata": {}
  },
  {
   "cell_type": "code",
   "execution_count": 63,
   "source": [
    "# Funcao Objetivo\r\n",
    "def f_alpine02(x):\r\n",
    "    resultado = 1\r\n",
    "    for i, x_i in x.iteritems():\r\n",
    "        resultado = resultado * math.sin(x_i) * math.sqrt(x_i)\r\n",
    "    return resultado"
   ],
   "outputs": [],
   "metadata": {}
  },
  {
   "cell_type": "code",
   "execution_count": 64,
   "source": [
    "def eval(populacao): # fitness\r\n",
    "    arr = []\r\n",
    "    limiar = 10\r\n",
    "    for i, row in populacao.iterrows():\r\n",
    "        resultado = f_alpine02(row) + limiar\r\n",
    "        arr.append(resultado)\r\n",
    "    return arr    "
   ],
   "outputs": [],
   "metadata": {}
  },
  {
   "cell_type": "code",
   "execution_count": 65,
   "source": [
    "def selecionar(populacao, n1,f): #seleciona o maior fitness\r\n",
    "    populacao['aux'] = f\r\n",
    "    populacao = populacao.sort_values('aux', ascending=False).drop('aux', axis = 1)\r\n",
    "    return populacao.reset_index(drop=True).head(n1)"
   ],
   "outputs": [],
   "metadata": {}
  },
  {
   "cell_type": "code",
   "execution_count": 66,
   "source": [
    "def clone(P1, f, n_clones): # proporcional aos anticorpos\r\n",
    "    C = pd.DataFrame(columns=['X1', 'X2'])\r\n",
    "    for i, row in P1.iterrows():\r\n",
    "        for j in range(n_clones):\r\n",
    "            C = C.append(row)\r\n",
    "    return C.reset_index(drop=True)"
   ],
   "outputs": [],
   "metadata": {}
  },
  {
   "cell_type": "code",
   "execution_count": 67,
   "source": [
    "def mutacao(C, f, p, n_clones): \r\n",
    "    arr = []\r\n",
    "    for i, row in C.iterrows():\r\n",
    "        d = f[math.floor(i/n_clones)]\r\n",
    "        d_max = max(f)\r\n",
    "        d_star = d / d_max\r\n",
    "        alpha = math.exp(-p*d_star)\r\n",
    "        line = []\r\n",
    "        for j, xj in row.iteritems():\r\n",
    "            rand = np.random.random()\r\n",
    "            if rand < alpha:\r\n",
    "                xj = np.random.uniform(0.0, 10.0)\r\n",
    "            line.append(xj)\r\n",
    "        arr.append(line)\r\n",
    "    C1 = pd.DataFrame(data=arr, columns=['X1', 'X2'])\r\n",
    "    return C1"
   ],
   "outputs": [],
   "metadata": {}
  },
  {
   "cell_type": "code",
   "execution_count": 68,
   "source": [
    "def substituir(P1, n2):\r\n",
    "    P1['aux'] = eval(P1)\r\n",
    "    P1 = P1.sort_values('aux', ascending=True).drop('aux', axis = 1).reset_index(drop=True)\r\n",
    "    for i in range(n2):\r\n",
    "        x1 = np.random.uniform(0.0, 10.0)\r\n",
    "        x2 = np.random.uniform(0.0, 10.0)\r\n",
    "        P1.loc[i, ['X1','X2']] = [x1, x2]\r\n",
    "    return P1"
   ],
   "outputs": [],
   "metadata": {}
  },
  {
   "cell_type": "code",
   "execution_count": null,
   "source": [
    "def plot_geracao_3d(df, geracao):\r\n",
    "    populacao = df.copy()\r\n",
    "    populacao['fx'] = populacao.apply(f_alpine02, axis=1)\r\n",
    "    if geracao%10 == 0:\r\n",
    "        print(\"Geracao: \", geracao)\r\n",
    "        fig = plt.figure(figsize= (16,9))\r\n",
    "        ax = plt.axes(projection = '3d')\r\n",
    "        \r\n",
    "        ax.grid(b = True, color = 'grey', linestyle = '-.', linewidth = 0.3, alpha = 0.2)\r\n",
    "        \r\n",
    "        my_cmap = plt.get_cmap('hsv')\r\n",
    "        \r\n",
    "        sctt = ax.scatter3D(populacao['X1'],populacao['X2'], populacao[\"fx\"], alpha = 0.8, c=populacao[\"fx\"], cmap= my_cmap, marker = '.')\r\n",
    "        \r\n",
    "        plt.title(f\"Funcao alpine2 - Geracao {geracao}\")\r\n",
    "        ax.set_xlabel('x1')\r\n",
    "        ax.set_ylabel('x2')\r\n",
    "        ax.set_zlabel('f(x1,x2)')\r\n",
    "        fig.colorbar(sctt, ax=ax, shrink= 0.5, aspect = 5)\r\n",
    "        \r\n",
    "        plt.show()\r\n",
    "        plt.clf()\r\n",
    "        plt.close()"
   ],
   "outputs": [],
   "metadata": {}
  },
  {
   "cell_type": "code",
   "execution_count": 69,
   "source": [
    "# Parametros do algoritmo imunologico\r\n",
    "n1 = 50\r\n",
    "n2 = 0\r\n",
    "beta = 0.1\r\n",
    "n_clones = round(beta*n1)\r\n",
    "p = 10\r\n",
    "max_iteracoes = 50\r\n",
    "\r\n",
    "# Cria dataframe e preenche com valores randomicos\r\n",
    "populacao = pd.DataFrame(np.random.uniform(0.0, 10.0, size=(n1, 2)), columns=['X1', 'X2'])\r\n",
    "\r\n",
    "for t in tqdm(range(max_iteracoes)): \r\n",
    "    plot_geracao_3d(populacao, t)\r\n",
    "    f = eval(populacao.copy()) # vetor\r\n",
    "    P1 = selecionar(populacao.copy(), n1,f)\r\n",
    "    \r\n",
    "    C = clone(P1, f, n_clones)\r\n",
    "    \r\n",
    "    C1 = mutacao(C, f, p, n_clones)\r\n",
    "    f1 = eval(C1)\r\n",
    "    P1 = selecionar(C1.copy(), n1, f1)\r\n",
    "    populacao = substituir(P1, n2)\r\n",
    "\r\n",
    "\r\n",
    "print(\"==========================================\")\r\n",
    "print(\"População final: \")\r\n",
    "print(populacao)\r\n",
    "plot_geracao_3d(populacao, 50)"
   ],
   "outputs": [
    {
     "output_type": "stream",
     "name": "stderr",
     "text": [
      "100%|██████████| 50/50 [00:31<00:00,  1.57it/s]"
     ]
    },
    {
     "output_type": "stream",
     "name": "stdout",
     "text": [
      "==========================================\n",
      "População final: \n",
      "          X1        X2\n",
      "0   7.827603  8.355778\n",
      "1   7.827603  8.355778\n",
      "2   7.827603  8.355778\n",
      "3   7.827603  8.355778\n",
      "4   7.827603  8.355778\n",
      "5   7.827603  8.355778\n",
      "6   7.827603  8.355778\n",
      "7   7.827603  8.355778\n",
      "8   7.827603  8.355778\n",
      "9   7.827603  8.355778\n",
      "10  7.827603  8.355778\n",
      "11  7.827603  8.355778\n",
      "12  7.827603  8.355778\n",
      "13  7.827603  8.355778\n",
      "14  7.827603  8.355778\n",
      "15  7.827603  8.355778\n",
      "16  7.827603  8.355778\n",
      "17  7.827603  8.355778\n",
      "18  7.827603  8.355778\n",
      "19  7.827603  8.355778\n",
      "20  7.827603  8.355778\n",
      "21  7.827603  8.355778\n",
      "22  7.827603  8.355778\n",
      "23  7.827603  8.355778\n",
      "24  7.827603  8.355778\n",
      "25  7.827603  8.355778\n",
      "26  7.827603  8.355778\n",
      "27  7.827603  8.355778\n",
      "28  7.827603  8.355778\n",
      "29  7.827603  8.355778\n",
      "30  7.827603  8.355778\n",
      "31  7.827603  8.355778\n",
      "32  7.827603  8.355778\n",
      "33  7.827603  8.355778\n",
      "34  7.827603  8.355778\n",
      "35  7.827603  8.355778\n",
      "36  7.827603  8.355778\n",
      "37  7.827603  8.355778\n",
      "38  7.827603  8.355778\n",
      "39  7.827603  8.355778\n",
      "40  7.827603  8.355778\n",
      "41  7.827603  8.355778\n",
      "42  7.827603  8.355778\n",
      "43  7.827603  8.355778\n",
      "44  7.827603  8.355778\n",
      "45  7.827603  8.355778\n",
      "46  7.827603  8.355778\n",
      "47  7.827603  8.355778\n",
      "48  7.827603  8.355778\n",
      "49  7.827603  8.355778\n"
     ]
    },
    {
     "output_type": "stream",
     "name": "stderr",
     "text": [
      "\n"
     ]
    }
   ],
   "metadata": {}
  }
 ],
 "metadata": {
  "orig_nbformat": 4,
  "language_info": {
   "name": "python",
   "version": "3.9.5",
   "mimetype": "text/x-python",
   "codemirror_mode": {
    "name": "ipython",
    "version": 3
   },
   "pygments_lexer": "ipython3",
   "nbconvert_exporter": "python",
   "file_extension": ".py"
  },
  "kernelspec": {
   "name": "python3",
   "display_name": "Python 3.9.5 64-bit"
  },
  "interpreter": {
   "hash": "af698c02722c81864863429d928a3bd8a8dcc030c4156359d3ef8b980fb01319"
  }
 },
 "nbformat": 4,
 "nbformat_minor": 2
}