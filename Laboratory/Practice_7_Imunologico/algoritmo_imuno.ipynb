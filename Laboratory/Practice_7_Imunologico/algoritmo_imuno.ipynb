{
 "cells": [
  {
   "cell_type": "markdown",
   "source": [
    "# TAREFA 6 - Algoritmo Genético\r\n",
    "\r\n",
    "<ul>\r\n",
    "<li>Diego Santos Gonçalves - 20183012537</li>\r\n",
    "<li>Mariana Bulgarelli Alves dos Santos - 20183000330</li>\r\n",
    "</ul>\r\n",
    "\r\n",
    "Para executar este notebook, é necessária a instalação das seguintes bibliotecas:\r\n",
    "<ul>\r\n",
    "<li>numpy </li>\r\n",
    "<li>pandas</li>\r\n",
    "<li>random </li>\r\n",
    "<li>matplotlib - para criação dos gráficos </li>\r\n",
    "<li>mpl_toolkits - para criação dos gráficos 3d</li>\r\n",
    "<li>tqdm - para barra progresso </li>\r\n",
    "</ul>"
   ],
   "metadata": {}
  },
  {
   "cell_type": "code",
   "execution_count": null,
   "source": [
    "from tqdm import tqdm\r\n",
    "import math\r\n",
    "import random\r\n",
    "import pandas as pd\r\n",
    "import numpy as np\r\n",
    "from matplotlib import pyplot as plt\r\n",
    "from mpl_toolkits import mplot3d"
   ],
   "outputs": [],
   "metadata": {}
  },
  {
   "cell_type": "markdown",
   "source": [
    "## Função Objetivo\r\n",
    "Nós implementamos a função objetivo dada para o problema: função alpine 02. Neste caso nossa função terá apenas duas entradas (x1, x2)."
   ],
   "metadata": {}
  },
  {
   "cell_type": "code",
   "execution_count": null,
   "source": [
    "# Funcao Objetivo\r\n",
    "def f_alpine02(x):\r\n",
    "    resultado = 1\r\n",
    "    for i, x_i in x.iteritems():\r\n",
    "        resultado = resultado * math.sin(x_i) * math.sqrt(x_i)\r\n",
    "    return resultado"
   ],
   "outputs": [],
   "metadata": {}
  },
  {
   "cell_type": "code",
   "execution_count": null,
   "source": [
    "def eval(populacao): # fitness\r\n",
    "    arr = []\r\n",
    "    limiar = 10\r\n",
    "    for i, row in populacao.iterrows():\r\n",
    "        resultado = f_alpine02(row) + limiar\r\n",
    "        arr.append(resultado)\r\n",
    "    return arr    "
   ],
   "outputs": [],
   "metadata": {}
  },
  {
   "cell_type": "code",
   "execution_count": null,
   "source": [
    "def selecionar(populacao, n1,f): #seleciona o maior fitness\r\n",
    "    populacao['aux'] = f\r\n",
    "    populacao = populacao.sort_values('aux', ascending=False).drop('aux', axis = 1)\r\n",
    "    return populacao.reset_index(drop=True).head(n1)"
   ],
   "outputs": [],
   "metadata": {}
  },
  {
   "cell_type": "code",
   "execution_count": null,
   "source": [
    "def clone(P1, f, n_clones): # proporcional aos anticorpos\r\n",
    "    C = pd.DataFrame()\r\n",
    "    for i, row in P1.iterrows():\r\n",
    "        for j in range(n_clones):\r\n",
    "            C.concat(row)\r\n",
    "    return C.reset_index(drop=True)"
   ],
   "outputs": [],
   "metadata": {}
  },
  {
   "cell_type": "code",
   "execution_count": null,
   "source": [
    "def mutacao(C, f, p, n_clones): \r\n",
    "    arr = []\r\n",
    "    for i, row in C.iterrow():\r\n",
    "        d = f[int(i/n_clones)]\r\n",
    "        d_max = max(f)\r\n",
    "        d_star = d / d_max\r\n",
    "        alpha = math.exp(-p*d_star)\r\n",
    "        line = []\r\n",
    "        for j, xj in row.iteritems():\r\n",
    "            rand = np.random.random()\r\n",
    "            if rand < alpha:\r\n",
    "                xj = np.random.uniform(0.0, 10.0)\r\n",
    "            line.append(xj)\r\n",
    "        arr.append(line)\r\n",
    "    C1 = pd.DataFrame(data=arr, columns=['X1', 'X2'])\r\n",
    "    return C1"
   ],
   "outputs": [],
   "metadata": {}
  },
  {
   "cell_type": "code",
   "execution_count": null,
   "source": [
    "# Parametros do algoritmo imunologico\r\n",
    "n1 = 50\r\n",
    "n2 = 0\r\n",
    "beta = 0.1\r\n",
    "n_clones = round(beta*n1)\r\n",
    "p = 10\r\n",
    "max_iteracoes = 50\r\n",
    "\r\n",
    "# Cria dataframe e preenche com valores randomicos\r\n",
    "populacao = pd.DataFrame(np.random.uniform(0.0, 10.0, size=(n1, 2)), columns=['X1', 'X2'])\r\n",
    "\r\n",
    "for t in tqdm(range(max_iteracoes)): \r\n",
    "    f = eval(populacao.copy()) # vetor\r\n",
    "    P1 = selecionar(populacao.copy(), n1,f)\r\n",
    "    C = clone(P1, f, n_clones)\r\n",
    "    C1 = mutacao(C1, f, p, n_clones)\r\n",
    "    f1 = eval(C1)\r\n",
    "    P1 = selecionar(C1, n1, f1)\r\n",
    "    P = substituir(P, n2)\r\n",
    "\r\n",
    "\r\n",
    "   \r\n",
    "    for i in range(0, int(tamanho_pop/2)):\r\n",
    "        # chama selecao\r\n",
    "        P1 = selecao_roleta(Fx, populacao_ordenada)\r\n",
    "        # para que não haja repetição de individuos\r\n",
    "        while(True):\r\n",
    "            P2 = selecao_roleta(Fx, populacao_ordenada)\r\n",
    "            \r\n",
    "            if( P2['X1'] == P1['X1'] and P2['X2'] == P1['X2']):\r\n",
    "                break\r\n",
    "\r\n",
    "        # transforma P1 e P2 em vetor\r\n",
    "        P1 = P1.to_numpy()\r\n",
    "        P2 = P2.to_numpy()\r\n",
    "\r\n",
    "        # faz crossover\r\n",
    "        C1, C2 = crossover(P1, P2, tx_crossover)\r\n",
    "\r\n",
    "        # Realizar mutacao de C1 e C2\r\n",
    "        C1 = mutacao_uniforme(C1, tx_mutacao)\r\n",
    "        C2 = mutacao_uniforme(C2, tx_mutacao)\r\n",
    "        \r\n",
    "        nova_populacao=nova_populacao.append(pd.DataFrame(data=[C1, C2], columns = ['X1', 'X2'] ))\r\n",
    " \r\n",
    "    populacao = nova_populacao.reset_index(drop=True)\r\n",
    "    plot_geracao_3d(populacao,geracao)\r\n",
    "\r\n",
    "\r\n",
    "\r\n",
    "\r\n",
    "print(\"==========================================\")\r\n",
    "print(\"Best individuo: \")\r\n",
    "print(best)\r\n",
    "print(\"Funcao alpine02: \",f_alpine02(best))\r\n",
    "print(\"Geracao: \",melhor_geracao)"
   ],
   "outputs": [],
   "metadata": {}
  },
  {
   "cell_type": "code",
   "execution_count": null,
   "source": [
    "def plot_geracao_3d(df, geracao):\r\n",
    "    populacao = df.copy()\r\n",
    "    populacao['fx'] = populacao.apply(f_alpine02, axis=1)\r\n",
    "    if geracao%10 == 0:\r\n",
    "        print(\"Geracao: \", geracao)\r\n",
    "        fig = plt.figure(figsize= (16,9))\r\n",
    "        ax = plt.axes(projection = '3d')\r\n",
    "        \r\n",
    "        ax.grid(b = True, color = 'grey', linestyle = '-.', linewidth = 0.3, alpha = 0.2)\r\n",
    "        \r\n",
    "        my_cmap = plt.get_cmap('hsv')\r\n",
    "        \r\n",
    "        sctt = ax.scatter3D(populacao['X1'],populacao['X2'], populacao[\"fx\"], alpha = 0.8, c=populacao[\"fx\"], cmap= my_cmap, marker = '.')\r\n",
    "        \r\n",
    "        plt.title(f\"Funcao alpine2 - Geracao {geracao}\")\r\n",
    "        ax.set_xlabel('x1')\r\n",
    "        ax.set_ylabel('x2')\r\n",
    "        ax.set_zlabel('f(x1,x2)')\r\n",
    "        fig.colorbar(sctt, ax=ax, shrink= 0.5, aspect = 5)\r\n",
    "        \r\n",
    "        plt.show()\r\n",
    "        plt.clf()\r\n",
    "        plt.close()"
   ],
   "outputs": [],
   "metadata": {}
  }
 ],
 "metadata": {
  "orig_nbformat": 4,
  "language_info": {
   "name": "python"
  }
 },
 "nbformat": 4,
 "nbformat_minor": 2
}