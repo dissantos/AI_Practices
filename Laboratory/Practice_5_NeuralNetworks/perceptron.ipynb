{
 "cells": [
  {
   "cell_type": "code",
   "execution_count": 30,
   "metadata": {},
   "outputs": [],
   "source": [
    "import math\r\n",
    "import pandas as pd\r\n",
    "import numpy as np"
   ]
  },
  {
   "cell_type": "markdown",
   "metadata": {},
   "source": [
    "## Função de ativação"
   ]
  },
  {
   "cell_type": "code",
   "execution_count": 31,
   "metadata": {},
   "outputs": [],
   "source": [
    "def sigmoidal(pre_y):\r\n",
    "    maior = 0\r\n",
    "    pos = 0\r\n",
    "    y = [0,0,0]\r\n",
    "    for i,x in enumerate(pre_y):\r\n",
    "        if x >= 0:\r\n",
    "            parte_exp = math.exp(-x)\r\n",
    "            sig = 1 / (1 + parte_exp)\r\n",
    "        else:\r\n",
    "            parte_exp = math.exp(x)\r\n",
    "            sig = parte_exp / (1 + parte_exp)\r\n",
    "        if sig >= maior:\r\n",
    "            maior = sig\r\n",
    "            pos = i\r\n",
    "    \r\n",
    "    y[pos] = 1\r\n",
    "    \r\n",
    "    return y\r\n",
    "        \r\n",
    "            \r\n",
    "    \r\n",
    "def degrau(pre_y):\r\n",
    "    y = []\r\n",
    "    for x in pre_y:\r\n",
    "        if x >= 0:\r\n",
    "            y.append(1)\r\n",
    "        else:\r\n",
    "            y.append(0)\r\n",
    "    return y"
   ]
  },
  {
   "cell_type": "markdown",
   "metadata": {},
   "source": [
    "## Perceptron e Teste de precisão"
   ]
  },
  {
   "cell_type": "code",
   "execution_count": 62,
   "metadata": {},
   "outputs": [],
   "source": [
    "# perceptron ----------------------------------------TERMINAR\r\n",
    "def perceptron (max_it, taxa_aprendizagem, X, D, funcao_ativacao):\r\n",
    "    W = np.array([[0,0,0,0],\r\n",
    "                [0,0,0,0],\r\n",
    "                [0,0,0,0]])\r\n",
    "    b = np.array([0,0,0])\r\n",
    "    iter_count: int = 1\r\n",
    "    E = 1\r\n",
    "    while (iter_count < max_it and E>0):\r\n",
    "        E = 0\r\n",
    "        for i,x in X.iterrows():\r\n",
    "            y = funcao_ativacao(np.matmul(W, np.array(x.array)) + b)\r\n",
    "            erro = np.array(D[i]) - np.array(y)\r\n",
    "            b = b + taxa_aprendizagem*erro\r\n",
    "            W = W + taxa_aprendizagem*(np.outer(erro,x.array))\r\n",
    "            E = E + erro.dot(erro)\r\n",
    "        iter_count = iter_count + 1\r\n",
    "    \r\n",
    "    return (W,b)\r\n",
    "\r\n",
    "# Acuracia\r\n",
    "def testa_acuracia (X, D, W, b, funcao_ativacao):\r\n",
    "    acertos = 0\r\n",
    "    for i,x in X.iterrows():\r\n",
    "        Y = funcao_ativacao(W.dot(np.array(x.array)) + b)\r\n",
    "        erro = np.array(D[i]) - np.array(Y)\r\n",
    "        \r\n",
    "        if all (valor == 0 for valor in erro):\r\n",
    "            acertos = acertos + 1\r\n",
    "    taxa_acertos = 100*(acertos/len(X))\r\n",
    "    return (acertos, taxa_acertos)\r\n"
   ]
  },
  {
   "cell_type": "markdown",
   "metadata": {},
   "source": [
    "## Dataset"
   ]
  },
  {
   "cell_type": "code",
   "execution_count": 63,
   "metadata": {},
   "outputs": [
    {
     "data": {
      "text/html": [
       "<div>\n",
       "<style scoped>\n",
       "    .dataframe tbody tr th:only-of-type {\n",
       "        vertical-align: middle;\n",
       "    }\n",
       "\n",
       "    .dataframe tbody tr th {\n",
       "        vertical-align: top;\n",
       "    }\n",
       "\n",
       "    .dataframe thead th {\n",
       "        text-align: right;\n",
       "    }\n",
       "</style>\n",
       "<table border=\"1\" class=\"dataframe\">\n",
       "  <thead>\n",
       "    <tr style=\"text-align: right;\">\n",
       "      <th></th>\n",
       "      <th>sepal length</th>\n",
       "      <th>sepal width</th>\n",
       "      <th>petal length</th>\n",
       "      <th>petal width</th>\n",
       "      <th>Classe</th>\n",
       "      <th>D</th>\n",
       "    </tr>\n",
       "  </thead>\n",
       "  <tbody>\n",
       "    <tr>\n",
       "      <th>0</th>\n",
       "      <td>5.1</td>\n",
       "      <td>3.5</td>\n",
       "      <td>1.4</td>\n",
       "      <td>0.2</td>\n",
       "      <td>Iris-setosa</td>\n",
       "      <td>[1, 0, 0]</td>\n",
       "    </tr>\n",
       "    <tr>\n",
       "      <th>1</th>\n",
       "      <td>4.9</td>\n",
       "      <td>3.0</td>\n",
       "      <td>1.4</td>\n",
       "      <td>0.2</td>\n",
       "      <td>Iris-setosa</td>\n",
       "      <td>[1, 0, 0]</td>\n",
       "    </tr>\n",
       "    <tr>\n",
       "      <th>2</th>\n",
       "      <td>4.7</td>\n",
       "      <td>3.2</td>\n",
       "      <td>1.3</td>\n",
       "      <td>0.2</td>\n",
       "      <td>Iris-setosa</td>\n",
       "      <td>[1, 0, 0]</td>\n",
       "    </tr>\n",
       "    <tr>\n",
       "      <th>3</th>\n",
       "      <td>4.6</td>\n",
       "      <td>3.1</td>\n",
       "      <td>1.5</td>\n",
       "      <td>0.2</td>\n",
       "      <td>Iris-setosa</td>\n",
       "      <td>[1, 0, 0]</td>\n",
       "    </tr>\n",
       "    <tr>\n",
       "      <th>4</th>\n",
       "      <td>5.0</td>\n",
       "      <td>3.6</td>\n",
       "      <td>1.4</td>\n",
       "      <td>0.2</td>\n",
       "      <td>Iris-setosa</td>\n",
       "      <td>[1, 0, 0]</td>\n",
       "    </tr>\n",
       "    <tr>\n",
       "      <th>...</th>\n",
       "      <td>...</td>\n",
       "      <td>...</td>\n",
       "      <td>...</td>\n",
       "      <td>...</td>\n",
       "      <td>...</td>\n",
       "      <td>...</td>\n",
       "    </tr>\n",
       "    <tr>\n",
       "      <th>145</th>\n",
       "      <td>6.7</td>\n",
       "      <td>3.0</td>\n",
       "      <td>5.2</td>\n",
       "      <td>2.3</td>\n",
       "      <td>Iris-virginica</td>\n",
       "      <td>[0, 0, 1]</td>\n",
       "    </tr>\n",
       "    <tr>\n",
       "      <th>146</th>\n",
       "      <td>6.3</td>\n",
       "      <td>2.5</td>\n",
       "      <td>5.0</td>\n",
       "      <td>1.9</td>\n",
       "      <td>Iris-virginica</td>\n",
       "      <td>[0, 0, 1]</td>\n",
       "    </tr>\n",
       "    <tr>\n",
       "      <th>147</th>\n",
       "      <td>6.5</td>\n",
       "      <td>3.0</td>\n",
       "      <td>5.2</td>\n",
       "      <td>2.0</td>\n",
       "      <td>Iris-virginica</td>\n",
       "      <td>[0, 0, 1]</td>\n",
       "    </tr>\n",
       "    <tr>\n",
       "      <th>148</th>\n",
       "      <td>6.2</td>\n",
       "      <td>3.4</td>\n",
       "      <td>5.4</td>\n",
       "      <td>2.3</td>\n",
       "      <td>Iris-virginica</td>\n",
       "      <td>[0, 0, 1]</td>\n",
       "    </tr>\n",
       "    <tr>\n",
       "      <th>149</th>\n",
       "      <td>5.9</td>\n",
       "      <td>3.0</td>\n",
       "      <td>5.1</td>\n",
       "      <td>1.8</td>\n",
       "      <td>Iris-virginica</td>\n",
       "      <td>[0, 0, 1]</td>\n",
       "    </tr>\n",
       "  </tbody>\n",
       "</table>\n",
       "<p>150 rows × 6 columns</p>\n",
       "</div>"
      ],
      "text/plain": [
       "     sepal length  sepal width  petal length  petal width          Classe  \\\n",
       "0             5.1          3.5           1.4          0.2     Iris-setosa   \n",
       "1             4.9          3.0           1.4          0.2     Iris-setosa   \n",
       "2             4.7          3.2           1.3          0.2     Iris-setosa   \n",
       "3             4.6          3.1           1.5          0.2     Iris-setosa   \n",
       "4             5.0          3.6           1.4          0.2     Iris-setosa   \n",
       "..            ...          ...           ...          ...             ...   \n",
       "145           6.7          3.0           5.2          2.3  Iris-virginica   \n",
       "146           6.3          2.5           5.0          1.9  Iris-virginica   \n",
       "147           6.5          3.0           5.2          2.0  Iris-virginica   \n",
       "148           6.2          3.4           5.4          2.3  Iris-virginica   \n",
       "149           5.9          3.0           5.1          1.8  Iris-virginica   \n",
       "\n",
       "             D  \n",
       "0    [1, 0, 0]  \n",
       "1    [1, 0, 0]  \n",
       "2    [1, 0, 0]  \n",
       "3    [1, 0, 0]  \n",
       "4    [1, 0, 0]  \n",
       "..         ...  \n",
       "145  [0, 0, 1]  \n",
       "146  [0, 0, 1]  \n",
       "147  [0, 0, 1]  \n",
       "148  [0, 0, 1]  \n",
       "149  [0, 0, 1]  \n",
       "\n",
       "[150 rows x 6 columns]"
      ]
     },
     "execution_count": 63,
     "metadata": {},
     "output_type": "execute_result"
    }
   ],
   "source": [
    "# Perceptron\r\n",
    "\r\n",
    "# Ler do dataset\r\n",
    "dataset = pd.read_table(\"iris.data\", sep=\",\",header=None)\r\n",
    "dataset.columns = ['sepal length', 'sepal width', 'petal length', 'petal width', 'Classe']\r\n",
    "\r\n",
    "# Bag of class\r\n",
    "dict_class = {\r\n",
    "    'Iris-setosa':[1,0,0],\r\n",
    "    'Iris-versicolor': [0,1,0],\r\n",
    "    'Iris-virginica': [0,0,1]\r\n",
    "}\r\n",
    "\r\n",
    "dataset[\"D\"] = dataset[\"Classe\"].apply(lambda x: dict_class[x])\r\n",
    "\r\n",
    "dataset"
   ]
  },
  {
   "cell_type": "markdown",
   "metadata": {},
   "source": [
    "## Testes"
   ]
  },
  {
   "cell_type": "code",
   "execution_count": 72,
   "metadata": {},
   "outputs": [
    {
     "name": "stdout",
     "output_type": "stream",
     "text": [
      "[[ 0.11  0.36 -0.52 -0.22]\n",
      " [ 6.04 -6.99 -1.19 -8.71]\n",
      " [-7.86 -6.96 10.65 13.21]]\n",
      "[ 0.1 -3.9 -3.6]\n"
     ]
    }
   ],
   "source": [
    "X = dataset.drop([\"Classe\",\"D\"], axis= 1)\r\n",
    "D = dataset[\"D\"]\r\n",
    "taxa_aprendizagem = 0.4\r\n",
    "max_iter = 300\r\n",
    "\r\n",
    "(W,b) = perceptron(max_iter, taxa_aprendizagem, X, D, degrau)\r\n",
    "print(W)\r\n",
    "print(b)"
   ]
  },
  {
   "cell_type": "code",
   "execution_count": 73,
   "metadata": {},
   "outputs": [
    {
     "data": {
      "text/plain": [
       "(90, 60.0)"
      ]
     },
     "execution_count": 73,
     "metadata": {},
     "output_type": "execute_result"
    }
   ],
   "source": [
    "testa_acuracia(X,D,W,b, degrau)"
   ]
  }
 ],
 "metadata": {
  "interpreter": {
   "hash": "6bec934cc8c95f7e020717dae610fe5071a0517b3a583c7b2a5b8d62b112d875"
  },
  "kernelspec": {
   "display_name": "Python 3.8.3 64-bit ('Python38')",
   "name": "python3"
  },
  "language_info": {
   "codemirror_mode": {
    "name": "ipython",
    "version": 3
   },
   "file_extension": ".py",
   "mimetype": "text/x-python",
   "name": "python",
   "nbconvert_exporter": "python",
   "pygments_lexer": "ipython3",
   "version": "3.8.3"
  },
  "orig_nbformat": 4
 },
 "nbformat": 4,
 "nbformat_minor": 2
}